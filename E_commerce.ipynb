{
  "cells": [
    {
      "cell_type": "markdown",
      "metadata": {
        "id": "1nFAIkGIXSC6"
      },
      "source": [
        "# Clean Data\n",
        "\n"
      ]
    },
    {
      "cell_type": "code",
      "execution_count": 1,
      "metadata": {
        "id": "5eG9fh01e3ls"
      },
      "outputs": [],
      "source": [
        "import pandas as pd\n",
        "import matplotlib.pyplot as plt\n",
        "import seaborn as sns\n",
        "import numpy as np\n",
        "import matplotlib.colors as mcolors"
      ]
    },
    {
      "cell_type": "code",
      "execution_count": 2,
      "metadata": {
        "id": "OsK7LaUEepUj"
      },
      "outputs": [],
      "source": [
        "df = pd.read_csv('data.csv', encoding= 'unicode_escape')"
      ]
    },
    {
      "cell_type": "code",
      "execution_count": 3,
      "metadata": {
        "id": "cYwKMt8Ce2V7"
      },
      "outputs": [
        {
          "data": {
            "text/html": [
              "<div>\n",
              "<style scoped>\n",
              "    .dataframe tbody tr th:only-of-type {\n",
              "        vertical-align: middle;\n",
              "    }\n",
              "\n",
              "    .dataframe tbody tr th {\n",
              "        vertical-align: top;\n",
              "    }\n",
              "\n",
              "    .dataframe thead th {\n",
              "        text-align: right;\n",
              "    }\n",
              "</style>\n",
              "<table border=\"1\" class=\"dataframe\">\n",
              "  <thead>\n",
              "    <tr style=\"text-align: right;\">\n",
              "      <th></th>\n",
              "      <th>InvoiceNo</th>\n",
              "      <th>StockCode</th>\n",
              "      <th>Description</th>\n",
              "      <th>Quantity</th>\n",
              "      <th>InvoiceDate</th>\n",
              "      <th>UnitPrice</th>\n",
              "      <th>CustomerID</th>\n",
              "      <th>Country</th>\n",
              "    </tr>\n",
              "  </thead>\n",
              "  <tbody>\n",
              "    <tr>\n",
              "      <th>0</th>\n",
              "      <td>536365</td>\n",
              "      <td>85123A</td>\n",
              "      <td>WHITE HANGING HEART T-LIGHT HOLDER</td>\n",
              "      <td>6</td>\n",
              "      <td>12/1/2010 8:26</td>\n",
              "      <td>2.55</td>\n",
              "      <td>17850.0</td>\n",
              "      <td>United Kingdom</td>\n",
              "    </tr>\n",
              "    <tr>\n",
              "      <th>1</th>\n",
              "      <td>536365</td>\n",
              "      <td>71053</td>\n",
              "      <td>WHITE METAL LANTERN</td>\n",
              "      <td>6</td>\n",
              "      <td>12/1/2010 8:26</td>\n",
              "      <td>3.39</td>\n",
              "      <td>17850.0</td>\n",
              "      <td>United Kingdom</td>\n",
              "    </tr>\n",
              "    <tr>\n",
              "      <th>2</th>\n",
              "      <td>536365</td>\n",
              "      <td>84406B</td>\n",
              "      <td>CREAM CUPID HEARTS COAT HANGER</td>\n",
              "      <td>8</td>\n",
              "      <td>12/1/2010 8:26</td>\n",
              "      <td>2.75</td>\n",
              "      <td>17850.0</td>\n",
              "      <td>United Kingdom</td>\n",
              "    </tr>\n",
              "    <tr>\n",
              "      <th>3</th>\n",
              "      <td>536365</td>\n",
              "      <td>84029G</td>\n",
              "      <td>KNITTED UNION FLAG HOT WATER BOTTLE</td>\n",
              "      <td>6</td>\n",
              "      <td>12/1/2010 8:26</td>\n",
              "      <td>3.39</td>\n",
              "      <td>17850.0</td>\n",
              "      <td>United Kingdom</td>\n",
              "    </tr>\n",
              "    <tr>\n",
              "      <th>4</th>\n",
              "      <td>536365</td>\n",
              "      <td>84029E</td>\n",
              "      <td>RED WOOLLY HOTTIE WHITE HEART.</td>\n",
              "      <td>6</td>\n",
              "      <td>12/1/2010 8:26</td>\n",
              "      <td>3.39</td>\n",
              "      <td>17850.0</td>\n",
              "      <td>United Kingdom</td>\n",
              "    </tr>\n",
              "    <tr>\n",
              "      <th>5</th>\n",
              "      <td>536365</td>\n",
              "      <td>22752</td>\n",
              "      <td>SET 7 BABUSHKA NESTING BOXES</td>\n",
              "      <td>2</td>\n",
              "      <td>12/1/2010 8:26</td>\n",
              "      <td>7.65</td>\n",
              "      <td>17850.0</td>\n",
              "      <td>United Kingdom</td>\n",
              "    </tr>\n",
              "    <tr>\n",
              "      <th>6</th>\n",
              "      <td>536365</td>\n",
              "      <td>21730</td>\n",
              "      <td>GLASS STAR FROSTED T-LIGHT HOLDER</td>\n",
              "      <td>6</td>\n",
              "      <td>12/1/2010 8:26</td>\n",
              "      <td>4.25</td>\n",
              "      <td>17850.0</td>\n",
              "      <td>United Kingdom</td>\n",
              "    </tr>\n",
              "    <tr>\n",
              "      <th>7</th>\n",
              "      <td>536366</td>\n",
              "      <td>22633</td>\n",
              "      <td>HAND WARMER UNION JACK</td>\n",
              "      <td>6</td>\n",
              "      <td>12/1/2010 8:28</td>\n",
              "      <td>1.85</td>\n",
              "      <td>17850.0</td>\n",
              "      <td>United Kingdom</td>\n",
              "    </tr>\n",
              "    <tr>\n",
              "      <th>8</th>\n",
              "      <td>536366</td>\n",
              "      <td>22632</td>\n",
              "      <td>HAND WARMER RED POLKA DOT</td>\n",
              "      <td>6</td>\n",
              "      <td>12/1/2010 8:28</td>\n",
              "      <td>1.85</td>\n",
              "      <td>17850.0</td>\n",
              "      <td>United Kingdom</td>\n",
              "    </tr>\n",
              "    <tr>\n",
              "      <th>9</th>\n",
              "      <td>536367</td>\n",
              "      <td>84879</td>\n",
              "      <td>ASSORTED COLOUR BIRD ORNAMENT</td>\n",
              "      <td>32</td>\n",
              "      <td>12/1/2010 8:34</td>\n",
              "      <td>1.69</td>\n",
              "      <td>13047.0</td>\n",
              "      <td>United Kingdom</td>\n",
              "    </tr>\n",
              "    <tr>\n",
              "      <th>10</th>\n",
              "      <td>536367</td>\n",
              "      <td>22745</td>\n",
              "      <td>POPPY'S PLAYHOUSE BEDROOM</td>\n",
              "      <td>6</td>\n",
              "      <td>12/1/2010 8:34</td>\n",
              "      <td>2.10</td>\n",
              "      <td>13047.0</td>\n",
              "      <td>United Kingdom</td>\n",
              "    </tr>\n",
              "    <tr>\n",
              "      <th>11</th>\n",
              "      <td>536367</td>\n",
              "      <td>22748</td>\n",
              "      <td>POPPY'S PLAYHOUSE KITCHEN</td>\n",
              "      <td>6</td>\n",
              "      <td>12/1/2010 8:34</td>\n",
              "      <td>2.10</td>\n",
              "      <td>13047.0</td>\n",
              "      <td>United Kingdom</td>\n",
              "    </tr>\n",
              "    <tr>\n",
              "      <th>12</th>\n",
              "      <td>536367</td>\n",
              "      <td>22749</td>\n",
              "      <td>FELTCRAFT PRINCESS CHARLOTTE DOLL</td>\n",
              "      <td>8</td>\n",
              "      <td>12/1/2010 8:34</td>\n",
              "      <td>3.75</td>\n",
              "      <td>13047.0</td>\n",
              "      <td>United Kingdom</td>\n",
              "    </tr>\n",
              "    <tr>\n",
              "      <th>13</th>\n",
              "      <td>536367</td>\n",
              "      <td>22310</td>\n",
              "      <td>IVORY KNITTED MUG COSY</td>\n",
              "      <td>6</td>\n",
              "      <td>12/1/2010 8:34</td>\n",
              "      <td>1.65</td>\n",
              "      <td>13047.0</td>\n",
              "      <td>United Kingdom</td>\n",
              "    </tr>\n",
              "    <tr>\n",
              "      <th>14</th>\n",
              "      <td>536367</td>\n",
              "      <td>84969</td>\n",
              "      <td>BOX OF 6 ASSORTED COLOUR TEASPOONS</td>\n",
              "      <td>6</td>\n",
              "      <td>12/1/2010 8:34</td>\n",
              "      <td>4.25</td>\n",
              "      <td>13047.0</td>\n",
              "      <td>United Kingdom</td>\n",
              "    </tr>\n",
              "    <tr>\n",
              "      <th>15</th>\n",
              "      <td>536367</td>\n",
              "      <td>22623</td>\n",
              "      <td>BOX OF VINTAGE JIGSAW BLOCKS</td>\n",
              "      <td>3</td>\n",
              "      <td>12/1/2010 8:34</td>\n",
              "      <td>4.95</td>\n",
              "      <td>13047.0</td>\n",
              "      <td>United Kingdom</td>\n",
              "    </tr>\n",
              "    <tr>\n",
              "      <th>16</th>\n",
              "      <td>536367</td>\n",
              "      <td>22622</td>\n",
              "      <td>BOX OF VINTAGE ALPHABET BLOCKS</td>\n",
              "      <td>2</td>\n",
              "      <td>12/1/2010 8:34</td>\n",
              "      <td>9.95</td>\n",
              "      <td>13047.0</td>\n",
              "      <td>United Kingdom</td>\n",
              "    </tr>\n",
              "    <tr>\n",
              "      <th>17</th>\n",
              "      <td>536367</td>\n",
              "      <td>21754</td>\n",
              "      <td>HOME BUILDING BLOCK WORD</td>\n",
              "      <td>3</td>\n",
              "      <td>12/1/2010 8:34</td>\n",
              "      <td>5.95</td>\n",
              "      <td>13047.0</td>\n",
              "      <td>United Kingdom</td>\n",
              "    </tr>\n",
              "    <tr>\n",
              "      <th>18</th>\n",
              "      <td>536367</td>\n",
              "      <td>21755</td>\n",
              "      <td>LOVE BUILDING BLOCK WORD</td>\n",
              "      <td>3</td>\n",
              "      <td>12/1/2010 8:34</td>\n",
              "      <td>5.95</td>\n",
              "      <td>13047.0</td>\n",
              "      <td>United Kingdom</td>\n",
              "    </tr>\n",
              "    <tr>\n",
              "      <th>19</th>\n",
              "      <td>536367</td>\n",
              "      <td>21777</td>\n",
              "      <td>RECIPE BOX WITH METAL HEART</td>\n",
              "      <td>4</td>\n",
              "      <td>12/1/2010 8:34</td>\n",
              "      <td>7.95</td>\n",
              "      <td>13047.0</td>\n",
              "      <td>United Kingdom</td>\n",
              "    </tr>\n",
              "  </tbody>\n",
              "</table>\n",
              "</div>"
            ],
            "text/plain": [
              "   InvoiceNo StockCode                          Description  Quantity  \\\n",
              "0     536365    85123A   WHITE HANGING HEART T-LIGHT HOLDER         6   \n",
              "1     536365     71053                  WHITE METAL LANTERN         6   \n",
              "2     536365    84406B       CREAM CUPID HEARTS COAT HANGER         8   \n",
              "3     536365    84029G  KNITTED UNION FLAG HOT WATER BOTTLE         6   \n",
              "4     536365    84029E       RED WOOLLY HOTTIE WHITE HEART.         6   \n",
              "5     536365     22752         SET 7 BABUSHKA NESTING BOXES         2   \n",
              "6     536365     21730    GLASS STAR FROSTED T-LIGHT HOLDER         6   \n",
              "7     536366     22633               HAND WARMER UNION JACK         6   \n",
              "8     536366     22632            HAND WARMER RED POLKA DOT         6   \n",
              "9     536367     84879        ASSORTED COLOUR BIRD ORNAMENT        32   \n",
              "10    536367     22745           POPPY'S PLAYHOUSE BEDROOM          6   \n",
              "11    536367     22748            POPPY'S PLAYHOUSE KITCHEN         6   \n",
              "12    536367     22749    FELTCRAFT PRINCESS CHARLOTTE DOLL         8   \n",
              "13    536367     22310              IVORY KNITTED MUG COSY          6   \n",
              "14    536367     84969   BOX OF 6 ASSORTED COLOUR TEASPOONS         6   \n",
              "15    536367     22623        BOX OF VINTAGE JIGSAW BLOCKS          3   \n",
              "16    536367     22622       BOX OF VINTAGE ALPHABET BLOCKS         2   \n",
              "17    536367     21754             HOME BUILDING BLOCK WORD         3   \n",
              "18    536367     21755             LOVE BUILDING BLOCK WORD         3   \n",
              "19    536367     21777          RECIPE BOX WITH METAL HEART         4   \n",
              "\n",
              "       InvoiceDate  UnitPrice  CustomerID         Country  \n",
              "0   12/1/2010 8:26       2.55     17850.0  United Kingdom  \n",
              "1   12/1/2010 8:26       3.39     17850.0  United Kingdom  \n",
              "2   12/1/2010 8:26       2.75     17850.0  United Kingdom  \n",
              "3   12/1/2010 8:26       3.39     17850.0  United Kingdom  \n",
              "4   12/1/2010 8:26       3.39     17850.0  United Kingdom  \n",
              "5   12/1/2010 8:26       7.65     17850.0  United Kingdom  \n",
              "6   12/1/2010 8:26       4.25     17850.0  United Kingdom  \n",
              "7   12/1/2010 8:28       1.85     17850.0  United Kingdom  \n",
              "8   12/1/2010 8:28       1.85     17850.0  United Kingdom  \n",
              "9   12/1/2010 8:34       1.69     13047.0  United Kingdom  \n",
              "10  12/1/2010 8:34       2.10     13047.0  United Kingdom  \n",
              "11  12/1/2010 8:34       2.10     13047.0  United Kingdom  \n",
              "12  12/1/2010 8:34       3.75     13047.0  United Kingdom  \n",
              "13  12/1/2010 8:34       1.65     13047.0  United Kingdom  \n",
              "14  12/1/2010 8:34       4.25     13047.0  United Kingdom  \n",
              "15  12/1/2010 8:34       4.95     13047.0  United Kingdom  \n",
              "16  12/1/2010 8:34       9.95     13047.0  United Kingdom  \n",
              "17  12/1/2010 8:34       5.95     13047.0  United Kingdom  \n",
              "18  12/1/2010 8:34       5.95     13047.0  United Kingdom  \n",
              "19  12/1/2010 8:34       7.95     13047.0  United Kingdom  "
            ]
          },
          "execution_count": 3,
          "metadata": {},
          "output_type": "execute_result"
        }
      ],
      "source": [
        "df.head(20)"
      ]
    },
    {
      "cell_type": "code",
      "execution_count": 4,
      "metadata": {
        "id": "55nGWh4EhQn4"
      },
      "outputs": [
        {
          "name": "stdout",
          "output_type": "stream",
          "text": [
            "<class 'pandas.core.frame.DataFrame'>\n",
            "RangeIndex: 541909 entries, 0 to 541908\n",
            "Data columns (total 8 columns):\n",
            "InvoiceNo      541909 non-null object\n",
            "StockCode      541909 non-null object\n",
            "Description    540455 non-null object\n",
            "Quantity       541909 non-null int64\n",
            "InvoiceDate    541909 non-null object\n",
            "UnitPrice      541909 non-null float64\n",
            "CustomerID     406829 non-null float64\n",
            "Country        541909 non-null object\n",
            "dtypes: float64(2), int64(1), object(5)\n",
            "memory usage: 33.1+ MB\n"
          ]
        }
      ],
      "source": [
        "df.info()"
      ]
    },
    {
      "cell_type": "code",
      "execution_count": 5,
      "metadata": {
        "id": "zmCQou6QjUnz"
      },
      "outputs": [
        {
          "data": {
            "text/html": [
              "<div>\n",
              "<style scoped>\n",
              "    .dataframe tbody tr th:only-of-type {\n",
              "        vertical-align: middle;\n",
              "    }\n",
              "\n",
              "    .dataframe tbody tr th {\n",
              "        vertical-align: top;\n",
              "    }\n",
              "\n",
              "    .dataframe thead th {\n",
              "        text-align: right;\n",
              "    }\n",
              "</style>\n",
              "<table border=\"1\" class=\"dataframe\">\n",
              "  <thead>\n",
              "    <tr style=\"text-align: right;\">\n",
              "      <th></th>\n",
              "      <th>Quantity</th>\n",
              "      <th>UnitPrice</th>\n",
              "      <th>CustomerID</th>\n",
              "    </tr>\n",
              "  </thead>\n",
              "  <tbody>\n",
              "    <tr>\n",
              "      <th>count</th>\n",
              "      <td>541909.000000</td>\n",
              "      <td>541909.000000</td>\n",
              "      <td>406829.000000</td>\n",
              "    </tr>\n",
              "    <tr>\n",
              "      <th>mean</th>\n",
              "      <td>9.552250</td>\n",
              "      <td>4.611114</td>\n",
              "      <td>15287.690570</td>\n",
              "    </tr>\n",
              "    <tr>\n",
              "      <th>std</th>\n",
              "      <td>218.081158</td>\n",
              "      <td>96.759853</td>\n",
              "      <td>1713.600303</td>\n",
              "    </tr>\n",
              "    <tr>\n",
              "      <th>min</th>\n",
              "      <td>-80995.000000</td>\n",
              "      <td>-11062.060000</td>\n",
              "      <td>12346.000000</td>\n",
              "    </tr>\n",
              "    <tr>\n",
              "      <th>25%</th>\n",
              "      <td>1.000000</td>\n",
              "      <td>1.250000</td>\n",
              "      <td>13953.000000</td>\n",
              "    </tr>\n",
              "    <tr>\n",
              "      <th>50%</th>\n",
              "      <td>3.000000</td>\n",
              "      <td>2.080000</td>\n",
              "      <td>15152.000000</td>\n",
              "    </tr>\n",
              "    <tr>\n",
              "      <th>75%</th>\n",
              "      <td>10.000000</td>\n",
              "      <td>4.130000</td>\n",
              "      <td>16791.000000</td>\n",
              "    </tr>\n",
              "    <tr>\n",
              "      <th>max</th>\n",
              "      <td>80995.000000</td>\n",
              "      <td>38970.000000</td>\n",
              "      <td>18287.000000</td>\n",
              "    </tr>\n",
              "  </tbody>\n",
              "</table>\n",
              "</div>"
            ],
            "text/plain": [
              "            Quantity      UnitPrice     CustomerID\n",
              "count  541909.000000  541909.000000  406829.000000\n",
              "mean        9.552250       4.611114   15287.690570\n",
              "std       218.081158      96.759853    1713.600303\n",
              "min    -80995.000000  -11062.060000   12346.000000\n",
              "25%         1.000000       1.250000   13953.000000\n",
              "50%         3.000000       2.080000   15152.000000\n",
              "75%        10.000000       4.130000   16791.000000\n",
              "max     80995.000000   38970.000000   18287.000000"
            ]
          },
          "execution_count": 5,
          "metadata": {},
          "output_type": "execute_result"
        }
      ],
      "source": [
        "df.describe()"
      ]
    },
    {
      "cell_type": "code",
      "execution_count": 6,
      "metadata": {
        "id": "9RxApC_XQ1Ey"
      },
      "outputs": [],
      "source": [
        "# remove all Incoive No start with C (C means it's cancelation)\n",
        "df = df[df['InvoiceNo'].str[0] != 'C']"
      ]
    },
    {
      "cell_type": "code",
      "execution_count": 7,
      "metadata": {
        "id": "UPmHk5tOPM8Z"
      },
      "outputs": [],
      "source": [
        "# delete all the row got quantity <= 0 \n",
        "df = df[df['Quantity'] > 0 ]"
      ]
    },
    {
      "cell_type": "code",
      "execution_count": 8,
      "metadata": {
        "id": "9BXhy5d4Pkrg"
      },
      "outputs": [
        {
          "data": {
            "text/html": [
              "<div>\n",
              "<style scoped>\n",
              "    .dataframe tbody tr th:only-of-type {\n",
              "        vertical-align: middle;\n",
              "    }\n",
              "\n",
              "    .dataframe tbody tr th {\n",
              "        vertical-align: top;\n",
              "    }\n",
              "\n",
              "    .dataframe thead th {\n",
              "        text-align: right;\n",
              "    }\n",
              "</style>\n",
              "<table border=\"1\" class=\"dataframe\">\n",
              "  <thead>\n",
              "    <tr style=\"text-align: right;\">\n",
              "      <th></th>\n",
              "      <th>InvoiceNo</th>\n",
              "      <th>StockCode</th>\n",
              "      <th>Description</th>\n",
              "      <th>Quantity</th>\n",
              "      <th>InvoiceDate</th>\n",
              "      <th>UnitPrice</th>\n",
              "      <th>CustomerID</th>\n",
              "      <th>Country</th>\n",
              "    </tr>\n",
              "  </thead>\n",
              "  <tbody>\n",
              "    <tr>\n",
              "      <th>299983</th>\n",
              "      <td>A563186</td>\n",
              "      <td>B</td>\n",
              "      <td>Adjust bad debt</td>\n",
              "      <td>1</td>\n",
              "      <td>8/12/2011 14:51</td>\n",
              "      <td>-11062.06</td>\n",
              "      <td>NaN</td>\n",
              "      <td>United Kingdom</td>\n",
              "    </tr>\n",
              "    <tr>\n",
              "      <th>299984</th>\n",
              "      <td>A563187</td>\n",
              "      <td>B</td>\n",
              "      <td>Adjust bad debt</td>\n",
              "      <td>1</td>\n",
              "      <td>8/12/2011 14:52</td>\n",
              "      <td>-11062.06</td>\n",
              "      <td>NaN</td>\n",
              "      <td>United Kingdom</td>\n",
              "    </tr>\n",
              "  </tbody>\n",
              "</table>\n",
              "</div>"
            ],
            "text/plain": [
              "       InvoiceNo StockCode      Description  Quantity      InvoiceDate  \\\n",
              "299983   A563186         B  Adjust bad debt         1  8/12/2011 14:51   \n",
              "299984   A563187         B  Adjust bad debt         1  8/12/2011 14:52   \n",
              "\n",
              "        UnitPrice  CustomerID         Country  \n",
              "299983  -11062.06         NaN  United Kingdom  \n",
              "299984  -11062.06         NaN  United Kingdom  "
            ]
          },
          "execution_count": 8,
          "metadata": {},
          "output_type": "execute_result"
        }
      ],
      "source": [
        "df[df['UnitPrice']== df['UnitPrice'].min()]"
      ]
    },
    {
      "cell_type": "code",
      "execution_count": 9,
      "metadata": {
        "id": "u_sXBG8IQZKP"
      },
      "outputs": [],
      "source": [
        "# I notice a handful of non-product related codes (‘Postage’, ‘Bank Charges’, ‘Gift Vouchers’, etc.).\n",
        "non_product = ['AMAZONFEE', 'BANK CHARGES', 'C2', 'DCGSSBOY','DCGSSGIRL', 'DOT', 'gift_0001_', 'PADS', 'POST']\n",
        "df = df[~df['StockCode'].isin(non_product)]\n"
      ]
    },
    {
      "cell_type": "code",
      "execution_count": 10,
      "metadata": {
        "id": "bGUr8eHxSpl4"
      },
      "outputs": [],
      "source": [
        "non_description = [\"check\", \"check?\", \"?\", \"??\", \"damaged\", \"found\", \n",
        "                   \"adjustment\", \"Amazon\", \"AMAZON\", \"amazon adjust\", \n",
        "                  \"Amazon Adjustment\", \"amazon sales\", \"Found\", \"FOUND\",\n",
        "                  \"found box\", \"Found by jackie \",\"Found in w/hse\",\"dotcom\", \n",
        "                  \"dotcom adjust\", \"allocate stock for dotcom orders ta\", \"FBA\", \"Dotcomgiftshop Gift Voucher £100.00\", \"on cargo order\",\n",
        "                  \"wrongly sold (22719) barcode\", \"wrongly marked 23343\",\n",
        "                  \"dotcomstock\", \"rcvd be air temp fix for dotcom sit\", \n",
        "                  \"Manual\", \"John Lewis\", \"had been put aside\", \n",
        "                  \"for online retail orders\", \"taig adjust\", \"amazon\", \n",
        "                  \"incorrectly credited C550456 see 47\", \"returned\", \n",
        "                  \"wrongly coded 20713\", \"came coded as 20713\", \n",
        "                  \"add stock to allocate online orders\", \"Adjust bad debt\", \n",
        "                  \"alan hodge cant mamage this section\", \"website fixed\",\n",
        "                  \"did  a credit  and did not tick ret\", \"michel oops\",\n",
        "                  \"incorrectly credited C550456 see 47\", \"mailout\", \"test\",\n",
        "                  \"Sale error\",  \"Lighthouse Trading zero invc incorr\", \"SAMPLES\",\n",
        "                  \"Marked as 23343\", \"wrongly coded 23343\",\"Adjustment\", \n",
        "                  \"rcvd be air temp fix for dotcom sit\", \"Had been put aside.\"]\n",
        "df = df[~df['Description'].isin(non_description)]"
      ]
    },
    {
      "cell_type": "code",
      "execution_count": 11,
      "metadata": {
        "id": "o2KKQMJETGR-"
      },
      "outputs": [],
      "source": [
        "# remove all desciption that is null\n",
        "df = df[df['Description'].notna()]"
      ]
    },
    {
      "cell_type": "code",
      "execution_count": 12,
      "metadata": {
        "id": "iPPGhjv0THQb"
      },
      "outputs": [
        {
          "data": {
            "text/html": [
              "<div>\n",
              "<style scoped>\n",
              "    .dataframe tbody tr th:only-of-type {\n",
              "        vertical-align: middle;\n",
              "    }\n",
              "\n",
              "    .dataframe tbody tr th {\n",
              "        vertical-align: top;\n",
              "    }\n",
              "\n",
              "    .dataframe thead th {\n",
              "        text-align: right;\n",
              "    }\n",
              "</style>\n",
              "<table border=\"1\" class=\"dataframe\">\n",
              "  <thead>\n",
              "    <tr style=\"text-align: right;\">\n",
              "      <th></th>\n",
              "      <th>InvoiceNo</th>\n",
              "      <th>StockCode</th>\n",
              "      <th>Description</th>\n",
              "      <th>Quantity</th>\n",
              "      <th>InvoiceDate</th>\n",
              "      <th>UnitPrice</th>\n",
              "      <th>CustomerID</th>\n",
              "      <th>Country</th>\n",
              "    </tr>\n",
              "  </thead>\n",
              "  <tbody>\n",
              "    <tr>\n",
              "      <th>1443</th>\n",
              "      <td>536544</td>\n",
              "      <td>21773</td>\n",
              "      <td>DECORATIVE ROSE BATHROOM BOTTLE</td>\n",
              "      <td>1</td>\n",
              "      <td>12/1/2010 14:32</td>\n",
              "      <td>2.51</td>\n",
              "      <td>NaN</td>\n",
              "      <td>United Kingdom</td>\n",
              "    </tr>\n",
              "    <tr>\n",
              "      <th>1444</th>\n",
              "      <td>536544</td>\n",
              "      <td>21774</td>\n",
              "      <td>DECORATIVE CATS BATHROOM BOTTLE</td>\n",
              "      <td>2</td>\n",
              "      <td>12/1/2010 14:32</td>\n",
              "      <td>2.51</td>\n",
              "      <td>NaN</td>\n",
              "      <td>United Kingdom</td>\n",
              "    </tr>\n",
              "    <tr>\n",
              "      <th>1445</th>\n",
              "      <td>536544</td>\n",
              "      <td>21786</td>\n",
              "      <td>POLKADOT RAIN HAT</td>\n",
              "      <td>4</td>\n",
              "      <td>12/1/2010 14:32</td>\n",
              "      <td>0.85</td>\n",
              "      <td>NaN</td>\n",
              "      <td>United Kingdom</td>\n",
              "    </tr>\n",
              "    <tr>\n",
              "      <th>1446</th>\n",
              "      <td>536544</td>\n",
              "      <td>21787</td>\n",
              "      <td>RAIN PONCHO RETROSPOT</td>\n",
              "      <td>2</td>\n",
              "      <td>12/1/2010 14:32</td>\n",
              "      <td>1.66</td>\n",
              "      <td>NaN</td>\n",
              "      <td>United Kingdom</td>\n",
              "    </tr>\n",
              "    <tr>\n",
              "      <th>1447</th>\n",
              "      <td>536544</td>\n",
              "      <td>21790</td>\n",
              "      <td>VINTAGE SNAP CARDS</td>\n",
              "      <td>9</td>\n",
              "      <td>12/1/2010 14:32</td>\n",
              "      <td>1.66</td>\n",
              "      <td>NaN</td>\n",
              "      <td>United Kingdom</td>\n",
              "    </tr>\n",
              "    <tr>\n",
              "      <th>1448</th>\n",
              "      <td>536544</td>\n",
              "      <td>21791</td>\n",
              "      <td>VINTAGE HEADS AND TAILS CARD GAME</td>\n",
              "      <td>2</td>\n",
              "      <td>12/1/2010 14:32</td>\n",
              "      <td>2.51</td>\n",
              "      <td>NaN</td>\n",
              "      <td>United Kingdom</td>\n",
              "    </tr>\n",
              "    <tr>\n",
              "      <th>1449</th>\n",
              "      <td>536544</td>\n",
              "      <td>21801</td>\n",
              "      <td>CHRISTMAS TREE DECORATION WITH BELL</td>\n",
              "      <td>10</td>\n",
              "      <td>12/1/2010 14:32</td>\n",
              "      <td>0.43</td>\n",
              "      <td>NaN</td>\n",
              "      <td>United Kingdom</td>\n",
              "    </tr>\n",
              "    <tr>\n",
              "      <th>1450</th>\n",
              "      <td>536544</td>\n",
              "      <td>21802</td>\n",
              "      <td>CHRISTMAS TREE HEART DECORATION</td>\n",
              "      <td>9</td>\n",
              "      <td>12/1/2010 14:32</td>\n",
              "      <td>0.43</td>\n",
              "      <td>NaN</td>\n",
              "      <td>United Kingdom</td>\n",
              "    </tr>\n",
              "    <tr>\n",
              "      <th>1451</th>\n",
              "      <td>536544</td>\n",
              "      <td>21803</td>\n",
              "      <td>CHRISTMAS TREE STAR DECORATION</td>\n",
              "      <td>11</td>\n",
              "      <td>12/1/2010 14:32</td>\n",
              "      <td>0.43</td>\n",
              "      <td>NaN</td>\n",
              "      <td>United Kingdom</td>\n",
              "    </tr>\n",
              "    <tr>\n",
              "      <th>1452</th>\n",
              "      <td>536544</td>\n",
              "      <td>21809</td>\n",
              "      <td>CHRISTMAS HANGING TREE WITH BELL</td>\n",
              "      <td>1</td>\n",
              "      <td>12/1/2010 14:32</td>\n",
              "      <td>2.51</td>\n",
              "      <td>NaN</td>\n",
              "      <td>United Kingdom</td>\n",
              "    </tr>\n",
              "    <tr>\n",
              "      <th>1453</th>\n",
              "      <td>536544</td>\n",
              "      <td>21810</td>\n",
              "      <td>CHRISTMAS HANGING STAR WITH BELL</td>\n",
              "      <td>3</td>\n",
              "      <td>12/1/2010 14:32</td>\n",
              "      <td>2.51</td>\n",
              "      <td>NaN</td>\n",
              "      <td>United Kingdom</td>\n",
              "    </tr>\n",
              "    <tr>\n",
              "      <th>1454</th>\n",
              "      <td>536544</td>\n",
              "      <td>21811</td>\n",
              "      <td>CHRISTMAS HANGING HEART WITH BELL</td>\n",
              "      <td>1</td>\n",
              "      <td>12/1/2010 14:32</td>\n",
              "      <td>2.51</td>\n",
              "      <td>NaN</td>\n",
              "      <td>United Kingdom</td>\n",
              "    </tr>\n",
              "    <tr>\n",
              "      <th>1455</th>\n",
              "      <td>536544</td>\n",
              "      <td>21821</td>\n",
              "      <td>GLITTER STAR GARLAND WITH BELLS</td>\n",
              "      <td>1</td>\n",
              "      <td>12/1/2010 14:32</td>\n",
              "      <td>7.62</td>\n",
              "      <td>NaN</td>\n",
              "      <td>United Kingdom</td>\n",
              "    </tr>\n",
              "    <tr>\n",
              "      <th>1456</th>\n",
              "      <td>536544</td>\n",
              "      <td>21822</td>\n",
              "      <td>GLITTER CHRISTMAS TREE WITH BELLS</td>\n",
              "      <td>1</td>\n",
              "      <td>12/1/2010 14:32</td>\n",
              "      <td>4.21</td>\n",
              "      <td>NaN</td>\n",
              "      <td>United Kingdom</td>\n",
              "    </tr>\n",
              "    <tr>\n",
              "      <th>1457</th>\n",
              "      <td>536544</td>\n",
              "      <td>21823</td>\n",
              "      <td>PAINTED METAL HEART WITH HOLLY BELL</td>\n",
              "      <td>2</td>\n",
              "      <td>12/1/2010 14:32</td>\n",
              "      <td>2.98</td>\n",
              "      <td>NaN</td>\n",
              "      <td>United Kingdom</td>\n",
              "    </tr>\n",
              "    <tr>\n",
              "      <th>1458</th>\n",
              "      <td>536544</td>\n",
              "      <td>21844</td>\n",
              "      <td>RED RETROSPOT MUG</td>\n",
              "      <td>2</td>\n",
              "      <td>12/1/2010 14:32</td>\n",
              "      <td>5.91</td>\n",
              "      <td>NaN</td>\n",
              "      <td>United Kingdom</td>\n",
              "    </tr>\n",
              "    <tr>\n",
              "      <th>1459</th>\n",
              "      <td>536544</td>\n",
              "      <td>21851</td>\n",
              "      <td>LILAC DIAMANTE PEN IN GIFT BOX</td>\n",
              "      <td>1</td>\n",
              "      <td>12/1/2010 14:32</td>\n",
              "      <td>4.21</td>\n",
              "      <td>NaN</td>\n",
              "      <td>United Kingdom</td>\n",
              "    </tr>\n",
              "    <tr>\n",
              "      <th>1460</th>\n",
              "      <td>536544</td>\n",
              "      <td>21870</td>\n",
              "      <td>I CAN ONLY PLEASE ONE PERSON MUG</td>\n",
              "      <td>1</td>\n",
              "      <td>12/1/2010 14:32</td>\n",
              "      <td>3.36</td>\n",
              "      <td>NaN</td>\n",
              "      <td>United Kingdom</td>\n",
              "    </tr>\n",
              "    <tr>\n",
              "      <th>1461</th>\n",
              "      <td>536544</td>\n",
              "      <td>21871</td>\n",
              "      <td>SAVE THE PLANET MUG</td>\n",
              "      <td>5</td>\n",
              "      <td>12/1/2010 14:32</td>\n",
              "      <td>3.36</td>\n",
              "      <td>NaN</td>\n",
              "      <td>United Kingdom</td>\n",
              "    </tr>\n",
              "    <tr>\n",
              "      <th>1462</th>\n",
              "      <td>536544</td>\n",
              "      <td>21874</td>\n",
              "      <td>GIN AND TONIC MUG</td>\n",
              "      <td>1</td>\n",
              "      <td>12/1/2010 14:32</td>\n",
              "      <td>3.36</td>\n",
              "      <td>NaN</td>\n",
              "      <td>United Kingdom</td>\n",
              "    </tr>\n",
              "    <tr>\n",
              "      <th>1463</th>\n",
              "      <td>536544</td>\n",
              "      <td>21879</td>\n",
              "      <td>HEARTS GIFT TAPE</td>\n",
              "      <td>1</td>\n",
              "      <td>12/1/2010 14:32</td>\n",
              "      <td>1.66</td>\n",
              "      <td>NaN</td>\n",
              "      <td>United Kingdom</td>\n",
              "    </tr>\n",
              "    <tr>\n",
              "      <th>1464</th>\n",
              "      <td>536544</td>\n",
              "      <td>21884</td>\n",
              "      <td>CAKES AND BOWS GIFT  TAPE</td>\n",
              "      <td>1</td>\n",
              "      <td>12/1/2010 14:32</td>\n",
              "      <td>1.66</td>\n",
              "      <td>NaN</td>\n",
              "      <td>United Kingdom</td>\n",
              "    </tr>\n",
              "    <tr>\n",
              "      <th>1465</th>\n",
              "      <td>536544</td>\n",
              "      <td>21888</td>\n",
              "      <td>BINGO SET</td>\n",
              "      <td>1</td>\n",
              "      <td>12/1/2010 14:32</td>\n",
              "      <td>7.62</td>\n",
              "      <td>NaN</td>\n",
              "      <td>United Kingdom</td>\n",
              "    </tr>\n",
              "    <tr>\n",
              "      <th>1466</th>\n",
              "      <td>536544</td>\n",
              "      <td>21889</td>\n",
              "      <td>WOODEN BOX OF DOMINOES</td>\n",
              "      <td>2</td>\n",
              "      <td>12/1/2010 14:32</td>\n",
              "      <td>2.51</td>\n",
              "      <td>NaN</td>\n",
              "      <td>United Kingdom</td>\n",
              "    </tr>\n",
              "    <tr>\n",
              "      <th>1467</th>\n",
              "      <td>536544</td>\n",
              "      <td>21892</td>\n",
              "      <td>TRADITIONAL WOODEN CATCH CUP GAME</td>\n",
              "      <td>3</td>\n",
              "      <td>12/1/2010 14:32</td>\n",
              "      <td>2.51</td>\n",
              "      <td>NaN</td>\n",
              "      <td>United Kingdom</td>\n",
              "    </tr>\n",
              "    <tr>\n",
              "      <th>1468</th>\n",
              "      <td>536544</td>\n",
              "      <td>21894</td>\n",
              "      <td>POTTING SHED SEED ENVELOPES</td>\n",
              "      <td>1</td>\n",
              "      <td>12/1/2010 14:32</td>\n",
              "      <td>2.51</td>\n",
              "      <td>NaN</td>\n",
              "      <td>United Kingdom</td>\n",
              "    </tr>\n",
              "    <tr>\n",
              "      <th>1469</th>\n",
              "      <td>536544</td>\n",
              "      <td>21911</td>\n",
              "      <td>GARDEN METAL SIGN</td>\n",
              "      <td>1</td>\n",
              "      <td>12/1/2010 14:32</td>\n",
              "      <td>3.36</td>\n",
              "      <td>NaN</td>\n",
              "      <td>United Kingdom</td>\n",
              "    </tr>\n",
              "    <tr>\n",
              "      <th>1470</th>\n",
              "      <td>536544</td>\n",
              "      <td>21912</td>\n",
              "      <td>VINTAGE SNAKES &amp; LADDERS</td>\n",
              "      <td>3</td>\n",
              "      <td>12/1/2010 14:32</td>\n",
              "      <td>7.62</td>\n",
              "      <td>NaN</td>\n",
              "      <td>United Kingdom</td>\n",
              "    </tr>\n",
              "    <tr>\n",
              "      <th>1471</th>\n",
              "      <td>536544</td>\n",
              "      <td>21913</td>\n",
              "      <td>VINTAGE SEASIDE JIGSAW PUZZLES</td>\n",
              "      <td>1</td>\n",
              "      <td>12/1/2010 14:32</td>\n",
              "      <td>7.62</td>\n",
              "      <td>NaN</td>\n",
              "      <td>United Kingdom</td>\n",
              "    </tr>\n",
              "    <tr>\n",
              "      <th>1472</th>\n",
              "      <td>536544</td>\n",
              "      <td>21914</td>\n",
              "      <td>BLUE HARMONICA IN BOX</td>\n",
              "      <td>3</td>\n",
              "      <td>12/1/2010 14:32</td>\n",
              "      <td>2.51</td>\n",
              "      <td>NaN</td>\n",
              "      <td>United Kingdom</td>\n",
              "    </tr>\n",
              "    <tr>\n",
              "      <th>...</th>\n",
              "      <td>...</td>\n",
              "      <td>...</td>\n",
              "      <td>...</td>\n",
              "      <td>...</td>\n",
              "      <td>...</td>\n",
              "      <td>...</td>\n",
              "      <td>...</td>\n",
              "      <td>...</td>\n",
              "    </tr>\n",
              "    <tr>\n",
              "      <th>541510</th>\n",
              "      <td>581498</td>\n",
              "      <td>48138</td>\n",
              "      <td>DOORMAT UNION FLAG</td>\n",
              "      <td>1</td>\n",
              "      <td>12/9/2011 10:26</td>\n",
              "      <td>14.13</td>\n",
              "      <td>NaN</td>\n",
              "      <td>United Kingdom</td>\n",
              "    </tr>\n",
              "    <tr>\n",
              "      <th>541511</th>\n",
              "      <td>581498</td>\n",
              "      <td>71053</td>\n",
              "      <td>WHITE MOROCCAN METAL LANTERN</td>\n",
              "      <td>1</td>\n",
              "      <td>12/9/2011 10:26</td>\n",
              "      <td>8.29</td>\n",
              "      <td>NaN</td>\n",
              "      <td>United Kingdom</td>\n",
              "    </tr>\n",
              "    <tr>\n",
              "      <th>541512</th>\n",
              "      <td>581498</td>\n",
              "      <td>72349b</td>\n",
              "      <td>SET/6 PURPLE BUTTERFLY T-LIGHTS</td>\n",
              "      <td>2</td>\n",
              "      <td>12/9/2011 10:26</td>\n",
              "      <td>4.13</td>\n",
              "      <td>NaN</td>\n",
              "      <td>United Kingdom</td>\n",
              "    </tr>\n",
              "    <tr>\n",
              "      <th>541513</th>\n",
              "      <td>581498</td>\n",
              "      <td>79321</td>\n",
              "      <td>CHILLI LIGHTS</td>\n",
              "      <td>10</td>\n",
              "      <td>12/9/2011 10:26</td>\n",
              "      <td>12.46</td>\n",
              "      <td>NaN</td>\n",
              "      <td>United Kingdom</td>\n",
              "    </tr>\n",
              "    <tr>\n",
              "      <th>541514</th>\n",
              "      <td>581498</td>\n",
              "      <td>82001s</td>\n",
              "      <td>SILVER RECORD COVER FRAME</td>\n",
              "      <td>2</td>\n",
              "      <td>12/9/2011 10:26</td>\n",
              "      <td>7.46</td>\n",
              "      <td>NaN</td>\n",
              "      <td>United Kingdom</td>\n",
              "    </tr>\n",
              "    <tr>\n",
              "      <th>541515</th>\n",
              "      <td>581498</td>\n",
              "      <td>82482</td>\n",
              "      <td>WOODEN PICTURE FRAME WHITE FINISH</td>\n",
              "      <td>4</td>\n",
              "      <td>12/9/2011 10:26</td>\n",
              "      <td>4.96</td>\n",
              "      <td>NaN</td>\n",
              "      <td>United Kingdom</td>\n",
              "    </tr>\n",
              "    <tr>\n",
              "      <th>541516</th>\n",
              "      <td>581498</td>\n",
              "      <td>82552</td>\n",
              "      <td>WASHROOM METAL SIGN</td>\n",
              "      <td>1</td>\n",
              "      <td>12/9/2011 10:26</td>\n",
              "      <td>2.46</td>\n",
              "      <td>NaN</td>\n",
              "      <td>United Kingdom</td>\n",
              "    </tr>\n",
              "    <tr>\n",
              "      <th>541517</th>\n",
              "      <td>581498</td>\n",
              "      <td>82580</td>\n",
              "      <td>BATHROOM METAL SIGN</td>\n",
              "      <td>1</td>\n",
              "      <td>12/9/2011 10:26</td>\n",
              "      <td>1.25</td>\n",
              "      <td>NaN</td>\n",
              "      <td>United Kingdom</td>\n",
              "    </tr>\n",
              "    <tr>\n",
              "      <th>541518</th>\n",
              "      <td>581498</td>\n",
              "      <td>82581</td>\n",
              "      <td>TOILET METAL SIGN</td>\n",
              "      <td>1</td>\n",
              "      <td>12/9/2011 10:26</td>\n",
              "      <td>1.25</td>\n",
              "      <td>NaN</td>\n",
              "      <td>United Kingdom</td>\n",
              "    </tr>\n",
              "    <tr>\n",
              "      <th>541519</th>\n",
              "      <td>581498</td>\n",
              "      <td>82600</td>\n",
              "      <td>N0 SINGING METAL SIGN</td>\n",
              "      <td>4</td>\n",
              "      <td>12/9/2011 10:26</td>\n",
              "      <td>4.13</td>\n",
              "      <td>NaN</td>\n",
              "      <td>United Kingdom</td>\n",
              "    </tr>\n",
              "    <tr>\n",
              "      <th>541520</th>\n",
              "      <td>581498</td>\n",
              "      <td>84029E</td>\n",
              "      <td>RED WOOLLY HOTTIE WHITE HEART.</td>\n",
              "      <td>4</td>\n",
              "      <td>12/9/2011 10:26</td>\n",
              "      <td>8.29</td>\n",
              "      <td>NaN</td>\n",
              "      <td>United Kingdom</td>\n",
              "    </tr>\n",
              "    <tr>\n",
              "      <th>541521</th>\n",
              "      <td>581498</td>\n",
              "      <td>84032A</td>\n",
              "      <td>CHARLIE+LOLA PINK HOT WATER BOTTLE</td>\n",
              "      <td>4</td>\n",
              "      <td>12/9/2011 10:26</td>\n",
              "      <td>5.79</td>\n",
              "      <td>NaN</td>\n",
              "      <td>United Kingdom</td>\n",
              "    </tr>\n",
              "    <tr>\n",
              "      <th>541522</th>\n",
              "      <td>581498</td>\n",
              "      <td>84032B</td>\n",
              "      <td>CHARLIE + LOLA RED HOT WATER BOTTLE</td>\n",
              "      <td>3</td>\n",
              "      <td>12/9/2011 10:26</td>\n",
              "      <td>3.29</td>\n",
              "      <td>NaN</td>\n",
              "      <td>United Kingdom</td>\n",
              "    </tr>\n",
              "    <tr>\n",
              "      <th>541523</th>\n",
              "      <td>581498</td>\n",
              "      <td>84375</td>\n",
              "      <td>SET OF 20 KIDS COOKIE CUTTERS</td>\n",
              "      <td>3</td>\n",
              "      <td>12/9/2011 10:26</td>\n",
              "      <td>4.13</td>\n",
              "      <td>NaN</td>\n",
              "      <td>United Kingdom</td>\n",
              "    </tr>\n",
              "    <tr>\n",
              "      <th>541524</th>\n",
              "      <td>581498</td>\n",
              "      <td>84509a</td>\n",
              "      <td>SET OF 4 ENGLISH ROSE PLACEMATS</td>\n",
              "      <td>1</td>\n",
              "      <td>12/9/2011 10:26</td>\n",
              "      <td>7.46</td>\n",
              "      <td>NaN</td>\n",
              "      <td>United Kingdom</td>\n",
              "    </tr>\n",
              "    <tr>\n",
              "      <th>541525</th>\n",
              "      <td>581498</td>\n",
              "      <td>84558a</td>\n",
              "      <td>3D DOG PICTURE PLAYING CARDS</td>\n",
              "      <td>1</td>\n",
              "      <td>12/9/2011 10:26</td>\n",
              "      <td>5.79</td>\n",
              "      <td>NaN</td>\n",
              "      <td>United Kingdom</td>\n",
              "    </tr>\n",
              "    <tr>\n",
              "      <th>541526</th>\n",
              "      <td>581498</td>\n",
              "      <td>84832</td>\n",
              "      <td>ZINC WILLIE WINKIE  CANDLE STICK</td>\n",
              "      <td>26</td>\n",
              "      <td>12/9/2011 10:26</td>\n",
              "      <td>1.63</td>\n",
              "      <td>NaN</td>\n",
              "      <td>United Kingdom</td>\n",
              "    </tr>\n",
              "    <tr>\n",
              "      <th>541527</th>\n",
              "      <td>581498</td>\n",
              "      <td>84968e</td>\n",
              "      <td>SET OF 16 VINTAGE BLACK CUTLERY</td>\n",
              "      <td>1</td>\n",
              "      <td>12/9/2011 10:26</td>\n",
              "      <td>24.96</td>\n",
              "      <td>NaN</td>\n",
              "      <td>United Kingdom</td>\n",
              "    </tr>\n",
              "    <tr>\n",
              "      <th>541528</th>\n",
              "      <td>581498</td>\n",
              "      <td>84970s</td>\n",
              "      <td>HANGING HEART ZINC T-LIGHT HOLDER</td>\n",
              "      <td>1</td>\n",
              "      <td>12/9/2011 10:26</td>\n",
              "      <td>2.08</td>\n",
              "      <td>NaN</td>\n",
              "      <td>United Kingdom</td>\n",
              "    </tr>\n",
              "    <tr>\n",
              "      <th>541529</th>\n",
              "      <td>581498</td>\n",
              "      <td>84997a</td>\n",
              "      <td>CHILDRENS CUTLERY POLKADOT GREEN</td>\n",
              "      <td>2</td>\n",
              "      <td>12/9/2011 10:26</td>\n",
              "      <td>8.29</td>\n",
              "      <td>NaN</td>\n",
              "      <td>United Kingdom</td>\n",
              "    </tr>\n",
              "    <tr>\n",
              "      <th>541530</th>\n",
              "      <td>581498</td>\n",
              "      <td>84997b</td>\n",
              "      <td>CHILDRENS CUTLERY RETROSPOT RED</td>\n",
              "      <td>3</td>\n",
              "      <td>12/9/2011 10:26</td>\n",
              "      <td>8.29</td>\n",
              "      <td>NaN</td>\n",
              "      <td>United Kingdom</td>\n",
              "    </tr>\n",
              "    <tr>\n",
              "      <th>541531</th>\n",
              "      <td>581498</td>\n",
              "      <td>84997d</td>\n",
              "      <td>CHILDRENS CUTLERY POLKADOT PINK</td>\n",
              "      <td>1</td>\n",
              "      <td>12/9/2011 10:26</td>\n",
              "      <td>8.29</td>\n",
              "      <td>NaN</td>\n",
              "      <td>United Kingdom</td>\n",
              "    </tr>\n",
              "    <tr>\n",
              "      <th>541532</th>\n",
              "      <td>581498</td>\n",
              "      <td>85038</td>\n",
              "      <td>6 CHOCOLATE LOVE HEART T-LIGHTS</td>\n",
              "      <td>1</td>\n",
              "      <td>12/9/2011 10:26</td>\n",
              "      <td>4.13</td>\n",
              "      <td>NaN</td>\n",
              "      <td>United Kingdom</td>\n",
              "    </tr>\n",
              "    <tr>\n",
              "      <th>541533</th>\n",
              "      <td>581498</td>\n",
              "      <td>85048</td>\n",
              "      <td>15CM CHRISTMAS GLASS BALL 20 LIGHTS</td>\n",
              "      <td>1</td>\n",
              "      <td>12/9/2011 10:26</td>\n",
              "      <td>16.63</td>\n",
              "      <td>NaN</td>\n",
              "      <td>United Kingdom</td>\n",
              "    </tr>\n",
              "    <tr>\n",
              "      <th>541534</th>\n",
              "      <td>581498</td>\n",
              "      <td>85049a</td>\n",
              "      <td>TRADITIONAL CHRISTMAS RIBBONS</td>\n",
              "      <td>5</td>\n",
              "      <td>12/9/2011 10:26</td>\n",
              "      <td>3.29</td>\n",
              "      <td>NaN</td>\n",
              "      <td>United Kingdom</td>\n",
              "    </tr>\n",
              "    <tr>\n",
              "      <th>541535</th>\n",
              "      <td>581498</td>\n",
              "      <td>85049e</td>\n",
              "      <td>SCANDINAVIAN REDS RIBBONS</td>\n",
              "      <td>4</td>\n",
              "      <td>12/9/2011 10:26</td>\n",
              "      <td>3.29</td>\n",
              "      <td>NaN</td>\n",
              "      <td>United Kingdom</td>\n",
              "    </tr>\n",
              "    <tr>\n",
              "      <th>541536</th>\n",
              "      <td>581498</td>\n",
              "      <td>85099B</td>\n",
              "      <td>JUMBO BAG RED RETROSPOT</td>\n",
              "      <td>5</td>\n",
              "      <td>12/9/2011 10:26</td>\n",
              "      <td>4.13</td>\n",
              "      <td>NaN</td>\n",
              "      <td>United Kingdom</td>\n",
              "    </tr>\n",
              "    <tr>\n",
              "      <th>541537</th>\n",
              "      <td>581498</td>\n",
              "      <td>85099C</td>\n",
              "      <td>JUMBO  BAG BAROQUE BLACK WHITE</td>\n",
              "      <td>4</td>\n",
              "      <td>12/9/2011 10:26</td>\n",
              "      <td>4.13</td>\n",
              "      <td>NaN</td>\n",
              "      <td>United Kingdom</td>\n",
              "    </tr>\n",
              "    <tr>\n",
              "      <th>541538</th>\n",
              "      <td>581498</td>\n",
              "      <td>85150</td>\n",
              "      <td>LADIES &amp; GENTLEMEN METAL SIGN</td>\n",
              "      <td>1</td>\n",
              "      <td>12/9/2011 10:26</td>\n",
              "      <td>4.96</td>\n",
              "      <td>NaN</td>\n",
              "      <td>United Kingdom</td>\n",
              "    </tr>\n",
              "    <tr>\n",
              "      <th>541539</th>\n",
              "      <td>581498</td>\n",
              "      <td>85174</td>\n",
              "      <td>S/4 CACTI CANDLES</td>\n",
              "      <td>1</td>\n",
              "      <td>12/9/2011 10:26</td>\n",
              "      <td>10.79</td>\n",
              "      <td>NaN</td>\n",
              "      <td>United Kingdom</td>\n",
              "    </tr>\n",
              "  </tbody>\n",
              "</table>\n",
              "<p>131811 rows × 8 columns</p>\n",
              "</div>"
            ],
            "text/plain": [
              "       InvoiceNo StockCode                          Description  Quantity  \\\n",
              "1443      536544     21773      DECORATIVE ROSE BATHROOM BOTTLE         1   \n",
              "1444      536544     21774      DECORATIVE CATS BATHROOM BOTTLE         2   \n",
              "1445      536544     21786                   POLKADOT RAIN HAT          4   \n",
              "1446      536544     21787                RAIN PONCHO RETROSPOT         2   \n",
              "1447      536544     21790                   VINTAGE SNAP CARDS         9   \n",
              "1448      536544     21791   VINTAGE HEADS AND TAILS CARD GAME          2   \n",
              "1449      536544     21801  CHRISTMAS TREE DECORATION WITH BELL        10   \n",
              "1450      536544     21802      CHRISTMAS TREE HEART DECORATION         9   \n",
              "1451      536544     21803       CHRISTMAS TREE STAR DECORATION        11   \n",
              "1452      536544     21809     CHRISTMAS HANGING TREE WITH BELL         1   \n",
              "1453      536544     21810     CHRISTMAS HANGING STAR WITH BELL         3   \n",
              "1454      536544     21811    CHRISTMAS HANGING HEART WITH BELL         1   \n",
              "1455      536544     21821     GLITTER STAR GARLAND WITH BELLS          1   \n",
              "1456      536544     21822    GLITTER CHRISTMAS TREE WITH BELLS         1   \n",
              "1457      536544     21823  PAINTED METAL HEART WITH HOLLY BELL         2   \n",
              "1458      536544     21844                    RED RETROSPOT MUG         2   \n",
              "1459      536544     21851       LILAC DIAMANTE PEN IN GIFT BOX         1   \n",
              "1460      536544     21870     I CAN ONLY PLEASE ONE PERSON MUG         1   \n",
              "1461      536544     21871                  SAVE THE PLANET MUG         5   \n",
              "1462      536544     21874                    GIN AND TONIC MUG         1   \n",
              "1463      536544     21879                     HEARTS GIFT TAPE         1   \n",
              "1464      536544     21884            CAKES AND BOWS GIFT  TAPE         1   \n",
              "1465      536544     21888                            BINGO SET         1   \n",
              "1466      536544     21889               WOODEN BOX OF DOMINOES         2   \n",
              "1467      536544     21892   TRADITIONAL WOODEN CATCH CUP GAME          3   \n",
              "1468      536544     21894          POTTING SHED SEED ENVELOPES         1   \n",
              "1469      536544     21911                   GARDEN METAL SIGN          1   \n",
              "1470      536544     21912             VINTAGE SNAKES & LADDERS         3   \n",
              "1471      536544     21913       VINTAGE SEASIDE JIGSAW PUZZLES         1   \n",
              "1472      536544     21914               BLUE HARMONICA IN BOX          3   \n",
              "...          ...       ...                                  ...       ...   \n",
              "541510    581498     48138                   DOORMAT UNION FLAG         1   \n",
              "541511    581498     71053         WHITE MOROCCAN METAL LANTERN         1   \n",
              "541512    581498    72349b      SET/6 PURPLE BUTTERFLY T-LIGHTS         2   \n",
              "541513    581498     79321                        CHILLI LIGHTS        10   \n",
              "541514    581498    82001s            SILVER RECORD COVER FRAME         2   \n",
              "541515    581498     82482    WOODEN PICTURE FRAME WHITE FINISH         4   \n",
              "541516    581498     82552                  WASHROOM METAL SIGN         1   \n",
              "541517    581498     82580                  BATHROOM METAL SIGN         1   \n",
              "541518    581498     82581                    TOILET METAL SIGN         1   \n",
              "541519    581498     82600                N0 SINGING METAL SIGN         4   \n",
              "541520    581498    84029E       RED WOOLLY HOTTIE WHITE HEART.         4   \n",
              "541521    581498    84032A   CHARLIE+LOLA PINK HOT WATER BOTTLE         4   \n",
              "541522    581498    84032B  CHARLIE + LOLA RED HOT WATER BOTTLE         3   \n",
              "541523    581498     84375        SET OF 20 KIDS COOKIE CUTTERS         3   \n",
              "541524    581498    84509a      SET OF 4 ENGLISH ROSE PLACEMATS         1   \n",
              "541525    581498    84558a         3D DOG PICTURE PLAYING CARDS         1   \n",
              "541526    581498     84832     ZINC WILLIE WINKIE  CANDLE STICK        26   \n",
              "541527    581498    84968e      SET OF 16 VINTAGE BLACK CUTLERY         1   \n",
              "541528    581498    84970s    HANGING HEART ZINC T-LIGHT HOLDER         1   \n",
              "541529    581498    84997a    CHILDRENS CUTLERY POLKADOT GREEN          2   \n",
              "541530    581498    84997b     CHILDRENS CUTLERY RETROSPOT RED          3   \n",
              "541531    581498    84997d      CHILDRENS CUTLERY POLKADOT PINK         1   \n",
              "541532    581498     85038      6 CHOCOLATE LOVE HEART T-LIGHTS         1   \n",
              "541533    581498     85048  15CM CHRISTMAS GLASS BALL 20 LIGHTS         1   \n",
              "541534    581498    85049a        TRADITIONAL CHRISTMAS RIBBONS         5   \n",
              "541535    581498    85049e            SCANDINAVIAN REDS RIBBONS         4   \n",
              "541536    581498    85099B              JUMBO BAG RED RETROSPOT         5   \n",
              "541537    581498    85099C       JUMBO  BAG BAROQUE BLACK WHITE         4   \n",
              "541538    581498     85150        LADIES & GENTLEMEN METAL SIGN         1   \n",
              "541539    581498     85174                    S/4 CACTI CANDLES         1   \n",
              "\n",
              "            InvoiceDate  UnitPrice  CustomerID         Country  \n",
              "1443    12/1/2010 14:32       2.51         NaN  United Kingdom  \n",
              "1444    12/1/2010 14:32       2.51         NaN  United Kingdom  \n",
              "1445    12/1/2010 14:32       0.85         NaN  United Kingdom  \n",
              "1446    12/1/2010 14:32       1.66         NaN  United Kingdom  \n",
              "1447    12/1/2010 14:32       1.66         NaN  United Kingdom  \n",
              "1448    12/1/2010 14:32       2.51         NaN  United Kingdom  \n",
              "1449    12/1/2010 14:32       0.43         NaN  United Kingdom  \n",
              "1450    12/1/2010 14:32       0.43         NaN  United Kingdom  \n",
              "1451    12/1/2010 14:32       0.43         NaN  United Kingdom  \n",
              "1452    12/1/2010 14:32       2.51         NaN  United Kingdom  \n",
              "1453    12/1/2010 14:32       2.51         NaN  United Kingdom  \n",
              "1454    12/1/2010 14:32       2.51         NaN  United Kingdom  \n",
              "1455    12/1/2010 14:32       7.62         NaN  United Kingdom  \n",
              "1456    12/1/2010 14:32       4.21         NaN  United Kingdom  \n",
              "1457    12/1/2010 14:32       2.98         NaN  United Kingdom  \n",
              "1458    12/1/2010 14:32       5.91         NaN  United Kingdom  \n",
              "1459    12/1/2010 14:32       4.21         NaN  United Kingdom  \n",
              "1460    12/1/2010 14:32       3.36         NaN  United Kingdom  \n",
              "1461    12/1/2010 14:32       3.36         NaN  United Kingdom  \n",
              "1462    12/1/2010 14:32       3.36         NaN  United Kingdom  \n",
              "1463    12/1/2010 14:32       1.66         NaN  United Kingdom  \n",
              "1464    12/1/2010 14:32       1.66         NaN  United Kingdom  \n",
              "1465    12/1/2010 14:32       7.62         NaN  United Kingdom  \n",
              "1466    12/1/2010 14:32       2.51         NaN  United Kingdom  \n",
              "1467    12/1/2010 14:32       2.51         NaN  United Kingdom  \n",
              "1468    12/1/2010 14:32       2.51         NaN  United Kingdom  \n",
              "1469    12/1/2010 14:32       3.36         NaN  United Kingdom  \n",
              "1470    12/1/2010 14:32       7.62         NaN  United Kingdom  \n",
              "1471    12/1/2010 14:32       7.62         NaN  United Kingdom  \n",
              "1472    12/1/2010 14:32       2.51         NaN  United Kingdom  \n",
              "...                 ...        ...         ...             ...  \n",
              "541510  12/9/2011 10:26      14.13         NaN  United Kingdom  \n",
              "541511  12/9/2011 10:26       8.29         NaN  United Kingdom  \n",
              "541512  12/9/2011 10:26       4.13         NaN  United Kingdom  \n",
              "541513  12/9/2011 10:26      12.46         NaN  United Kingdom  \n",
              "541514  12/9/2011 10:26       7.46         NaN  United Kingdom  \n",
              "541515  12/9/2011 10:26       4.96         NaN  United Kingdom  \n",
              "541516  12/9/2011 10:26       2.46         NaN  United Kingdom  \n",
              "541517  12/9/2011 10:26       1.25         NaN  United Kingdom  \n",
              "541518  12/9/2011 10:26       1.25         NaN  United Kingdom  \n",
              "541519  12/9/2011 10:26       4.13         NaN  United Kingdom  \n",
              "541520  12/9/2011 10:26       8.29         NaN  United Kingdom  \n",
              "541521  12/9/2011 10:26       5.79         NaN  United Kingdom  \n",
              "541522  12/9/2011 10:26       3.29         NaN  United Kingdom  \n",
              "541523  12/9/2011 10:26       4.13         NaN  United Kingdom  \n",
              "541524  12/9/2011 10:26       7.46         NaN  United Kingdom  \n",
              "541525  12/9/2011 10:26       5.79         NaN  United Kingdom  \n",
              "541526  12/9/2011 10:26       1.63         NaN  United Kingdom  \n",
              "541527  12/9/2011 10:26      24.96         NaN  United Kingdom  \n",
              "541528  12/9/2011 10:26       2.08         NaN  United Kingdom  \n",
              "541529  12/9/2011 10:26       8.29         NaN  United Kingdom  \n",
              "541530  12/9/2011 10:26       8.29         NaN  United Kingdom  \n",
              "541531  12/9/2011 10:26       8.29         NaN  United Kingdom  \n",
              "541532  12/9/2011 10:26       4.13         NaN  United Kingdom  \n",
              "541533  12/9/2011 10:26      16.63         NaN  United Kingdom  \n",
              "541534  12/9/2011 10:26       3.29         NaN  United Kingdom  \n",
              "541535  12/9/2011 10:26       3.29         NaN  United Kingdom  \n",
              "541536  12/9/2011 10:26       4.13         NaN  United Kingdom  \n",
              "541537  12/9/2011 10:26       4.13         NaN  United Kingdom  \n",
              "541538  12/9/2011 10:26       4.96         NaN  United Kingdom  \n",
              "541539  12/9/2011 10:26      10.79         NaN  United Kingdom  \n",
              "\n",
              "[131811 rows x 8 columns]"
            ]
          },
          "execution_count": 12,
          "metadata": {},
          "output_type": "execute_result"
        }
      ],
      "source": [
        "# There is still a significant number of NAs in CustomerID, which I will leave as they are.\n",
        "df[df['CustomerID'].isna()]"
      ]
    },
    {
      "cell_type": "code",
      "execution_count": 13,
      "metadata": {
        "id": "1GY1hbnxXPMr"
      },
      "outputs": [],
      "source": [
        "# change type of Invoice Date from string to datetime\n",
        "df['InvoiceDate'] = pd.to_datetime(df['InvoiceDate'])"
      ]
    },
    {
      "cell_type": "code",
      "execution_count": 14,
      "metadata": {
        "id": "fDY81VQlDUQt"
      },
      "outputs": [],
      "source": [
        "# drop duplicate\n",
        "df = df.drop_duplicates()"
      ]
    },
    {
      "cell_type": "code",
      "execution_count": 15,
      "metadata": {
        "id": "YBFNDBE84ClH"
      },
      "outputs": [],
      "source": [
        "# make new column name Revenue = Quantity * UnitPrice\n",
        "df['Revenue'] = df['Quantity'] * df['UnitPrice']"
      ]
    },
    {
      "cell_type": "code",
      "execution_count": 17,
      "metadata": {
        "id": "0nrRuVXVW-Vc"
      },
      "outputs": [
        {
          "name": "stdout",
          "output_type": "stream",
          "text": [
            "2011-12-09 12:50:00\n",
            "2010-12-01 08:26:00\n"
          ]
        }
      ],
      "source": [
        "print(df['InvoiceDate'].max())\n",
        "print(df['InvoiceDate'].min())"
      ]
    },
    {
      "cell_type": "code",
      "execution_count": 18,
      "metadata": {
        "id": "HSC4injiXKyJ"
      },
      "outputs": [],
      "source": [
        "df = df[df['InvoiceDate']< pd.to_datetime('2011-12-01')]"
      ]
    },
    {
      "cell_type": "code",
      "execution_count": 85,
      "metadata": {
        "id": "_BGfvnLVXnsb"
      },
      "outputs": [
        {
          "name": "stdout",
          "output_type": "stream",
          "text": [
            "<class 'pandas.core.frame.DataFrame'>\n",
            "Int64Index: 498198 entries, 0 to 516368\n",
            "Data columns (total 9 columns):\n",
            "InvoiceNo      498198 non-null object\n",
            "StockCode      498198 non-null object\n",
            "Description    498198 non-null object\n",
            "Quantity       498198 non-null int64\n",
            "InvoiceDate    498198 non-null datetime64[ns]\n",
            "UnitPrice      498198 non-null float64\n",
            "CustomerID     374219 non-null float64\n",
            "Country        498198 non-null object\n",
            "Revenue        498198 non-null float64\n",
            "dtypes: datetime64[ns](1), float64(3), int64(1), object(4)\n",
            "memory usage: 38.0+ MB\n"
          ]
        }
      ],
      "source": [
        "df.info()"
      ]
    },
    {
      "cell_type": "code",
      "execution_count": 19,
      "metadata": {},
      "outputs": [],
      "source": [
        "def check_country(row):\n",
        "  if row['Country'] in ['United Kingdom', 'EIRE', 'Germany','France','Netherlands']:\n",
        "    return row['Country']\n",
        "  else:\n",
        "    return 'Other Country'"
      ]
    },
    {
      "cell_type": "code",
      "execution_count": 20,
      "metadata": {},
      "outputs": [],
      "source": [
        "df['Country2'] = df.apply(check_country, axis =1)"
      ]
    },
    {
      "cell_type": "markdown",
      "metadata": {
        "id": "A80_1Yn_XQcT"
      },
      "source": []
    },
    {
      "cell_type": "code",
      "execution_count": 21,
      "metadata": {},
      "outputs": [
        {
          "data": {
            "text/plain": [
              "array(['United Kingdom', 'France', 'Other Country', 'Netherlands',\n",
              "       'Germany', 'EIRE'], dtype=object)"
            ]
          },
          "execution_count": 21,
          "metadata": {},
          "output_type": "execute_result"
        }
      ],
      "source": [
        "df['Country2'].unique()"
      ]
    },
    {
      "cell_type": "code",
      "execution_count": 22,
      "metadata": {},
      "outputs": [],
      "source": [
        "df['YearMonth'] = df['InvoiceDate'].dt.to_period('M')"
      ]
    },
    {
      "cell_type": "code",
      "execution_count": 23,
      "metadata": {},
      "outputs": [
        {
          "data": {
            "text/html": [
              "<div>\n",
              "<style scoped>\n",
              "    .dataframe tbody tr th:only-of-type {\n",
              "        vertical-align: middle;\n",
              "    }\n",
              "\n",
              "    .dataframe tbody tr th {\n",
              "        vertical-align: top;\n",
              "    }\n",
              "\n",
              "    .dataframe thead th {\n",
              "        text-align: right;\n",
              "    }\n",
              "</style>\n",
              "<table border=\"1\" class=\"dataframe\">\n",
              "  <thead>\n",
              "    <tr style=\"text-align: right;\">\n",
              "      <th></th>\n",
              "      <th>InvoiceNo</th>\n",
              "      <th>StockCode</th>\n",
              "      <th>Description</th>\n",
              "      <th>Quantity</th>\n",
              "      <th>InvoiceDate</th>\n",
              "      <th>UnitPrice</th>\n",
              "      <th>CustomerID</th>\n",
              "      <th>Country</th>\n",
              "      <th>Revenue</th>\n",
              "      <th>Country2</th>\n",
              "      <th>YearMonth</th>\n",
              "    </tr>\n",
              "  </thead>\n",
              "  <tbody>\n",
              "    <tr>\n",
              "      <th>0</th>\n",
              "      <td>536365</td>\n",
              "      <td>85123A</td>\n",
              "      <td>WHITE HANGING HEART T-LIGHT HOLDER</td>\n",
              "      <td>6</td>\n",
              "      <td>2010-12-01 08:26:00</td>\n",
              "      <td>2.55</td>\n",
              "      <td>17850.0</td>\n",
              "      <td>United Kingdom</td>\n",
              "      <td>15.30</td>\n",
              "      <td>United Kingdom</td>\n",
              "      <td>2010-12</td>\n",
              "    </tr>\n",
              "    <tr>\n",
              "      <th>1</th>\n",
              "      <td>536365</td>\n",
              "      <td>71053</td>\n",
              "      <td>WHITE METAL LANTERN</td>\n",
              "      <td>6</td>\n",
              "      <td>2010-12-01 08:26:00</td>\n",
              "      <td>3.39</td>\n",
              "      <td>17850.0</td>\n",
              "      <td>United Kingdom</td>\n",
              "      <td>20.34</td>\n",
              "      <td>United Kingdom</td>\n",
              "      <td>2010-12</td>\n",
              "    </tr>\n",
              "    <tr>\n",
              "      <th>2</th>\n",
              "      <td>536365</td>\n",
              "      <td>84406B</td>\n",
              "      <td>CREAM CUPID HEARTS COAT HANGER</td>\n",
              "      <td>8</td>\n",
              "      <td>2010-12-01 08:26:00</td>\n",
              "      <td>2.75</td>\n",
              "      <td>17850.0</td>\n",
              "      <td>United Kingdom</td>\n",
              "      <td>22.00</td>\n",
              "      <td>United Kingdom</td>\n",
              "      <td>2010-12</td>\n",
              "    </tr>\n",
              "    <tr>\n",
              "      <th>3</th>\n",
              "      <td>536365</td>\n",
              "      <td>84029G</td>\n",
              "      <td>KNITTED UNION FLAG HOT WATER BOTTLE</td>\n",
              "      <td>6</td>\n",
              "      <td>2010-12-01 08:26:00</td>\n",
              "      <td>3.39</td>\n",
              "      <td>17850.0</td>\n",
              "      <td>United Kingdom</td>\n",
              "      <td>20.34</td>\n",
              "      <td>United Kingdom</td>\n",
              "      <td>2010-12</td>\n",
              "    </tr>\n",
              "    <tr>\n",
              "      <th>4</th>\n",
              "      <td>536365</td>\n",
              "      <td>84029E</td>\n",
              "      <td>RED WOOLLY HOTTIE WHITE HEART.</td>\n",
              "      <td>6</td>\n",
              "      <td>2010-12-01 08:26:00</td>\n",
              "      <td>3.39</td>\n",
              "      <td>17850.0</td>\n",
              "      <td>United Kingdom</td>\n",
              "      <td>20.34</td>\n",
              "      <td>United Kingdom</td>\n",
              "      <td>2010-12</td>\n",
              "    </tr>\n",
              "  </tbody>\n",
              "</table>\n",
              "</div>"
            ],
            "text/plain": [
              "  InvoiceNo StockCode                          Description  Quantity  \\\n",
              "0    536365    85123A   WHITE HANGING HEART T-LIGHT HOLDER         6   \n",
              "1    536365     71053                  WHITE METAL LANTERN         6   \n",
              "2    536365    84406B       CREAM CUPID HEARTS COAT HANGER         8   \n",
              "3    536365    84029G  KNITTED UNION FLAG HOT WATER BOTTLE         6   \n",
              "4    536365    84029E       RED WOOLLY HOTTIE WHITE HEART.         6   \n",
              "\n",
              "          InvoiceDate  UnitPrice  CustomerID         Country  Revenue  \\\n",
              "0 2010-12-01 08:26:00       2.55     17850.0  United Kingdom    15.30   \n",
              "1 2010-12-01 08:26:00       3.39     17850.0  United Kingdom    20.34   \n",
              "2 2010-12-01 08:26:00       2.75     17850.0  United Kingdom    22.00   \n",
              "3 2010-12-01 08:26:00       3.39     17850.0  United Kingdom    20.34   \n",
              "4 2010-12-01 08:26:00       3.39     17850.0  United Kingdom    20.34   \n",
              "\n",
              "         Country2 YearMonth  \n",
              "0  United Kingdom   2010-12  \n",
              "1  United Kingdom   2010-12  \n",
              "2  United Kingdom   2010-12  \n",
              "3  United Kingdom   2010-12  \n",
              "4  United Kingdom   2010-12  "
            ]
          },
          "execution_count": 23,
          "metadata": {},
          "output_type": "execute_result"
        }
      ],
      "source": [
        "df.head()"
      ]
    },
    {
      "cell_type": "code",
      "execution_count": 24,
      "metadata": {},
      "outputs": [],
      "source": [
        "df['MinYearMonth'] = df.groupby('CustomerID')['YearMonth'].transform('min')"
      ]
    },
    {
      "cell_type": "code",
      "execution_count": 25,
      "metadata": {},
      "outputs": [
        {
          "name": "stdout",
          "output_type": "stream",
          "text": [
            "<class 'pandas.core.frame.DataFrame'>\n",
            "Int64Index: 498198 entries, 0 to 516368\n",
            "Data columns (total 12 columns):\n",
            "InvoiceNo       498198 non-null object\n",
            "StockCode       498198 non-null object\n",
            "Description     498198 non-null object\n",
            "Quantity        498198 non-null int64\n",
            "InvoiceDate     498198 non-null datetime64[ns]\n",
            "UnitPrice       498198 non-null float64\n",
            "CustomerID      374219 non-null float64\n",
            "Country         498198 non-null object\n",
            "Revenue         498198 non-null float64\n",
            "Country2        498198 non-null object\n",
            "YearMonth       498198 non-null object\n",
            "MinYearMonth    374219 non-null object\n",
            "dtypes: datetime64[ns](1), float64(3), int64(1), object(7)\n",
            "memory usage: 49.4+ MB\n"
          ]
        }
      ],
      "source": [
        "df.info()"
      ]
    },
    {
      "cell_type": "code",
      "execution_count": 26,
      "metadata": {},
      "outputs": [],
      "source": [
        "df['CohortIndex'] = 12* (df['YearMonth'].dt.year - df['MinYearMonth'].dt.year ) + (df['YearMonth'].dt.month - df['MinYearMonth'].dt.month )"
      ]
    },
    {
      "cell_type": "code",
      "execution_count": 27,
      "metadata": {},
      "outputs": [],
      "source": [
        "df['CohortIndex'] = df['CohortIndex'].astype(int)"
      ]
    },
    {
      "cell_type": "code",
      "execution_count": 28,
      "metadata": {},
      "outputs": [
        {
          "data": {
            "text/plain": [
              "array([    0, 24145,     1, 24146,     2, 24147,     3, 24148,     4,\n",
              "       24149,     5, 24150,     6, 24151,     7, 24152,     8, 24153,\n",
              "           9, 24154,    10, 24155,    11, 24156], dtype=int64)"
            ]
          },
          "execution_count": 28,
          "metadata": {},
          "output_type": "execute_result"
        }
      ],
      "source": [
        "df['CohortIndex'].unique()"
      ]
    },
    {
      "cell_type": "code",
      "execution_count": 29,
      "metadata": {},
      "outputs": [],
      "source": [
        "def check_cohort(row):\n",
        "\tif row['CohortIndex'] > 12:\n",
        "\t\treturn float(\"nan\")\n",
        "\telse:\n",
        "\t\treturn row['CohortIndex']"
      ]
    },
    {
      "cell_type": "code",
      "execution_count": 30,
      "metadata": {},
      "outputs": [],
      "source": [
        "df['CohortIndex'] = df.apply(check_cohort, axis = 1)"
      ]
    },
    {
      "cell_type": "code",
      "execution_count": 82,
      "metadata": {},
      "outputs": [],
      "source": [
        "df.to_csv('df.csv', index = False)"
      ]
    },
    {
      "cell_type": "markdown",
      "metadata": {},
      "source": [
        "# Question about country?\n",
        "- Which country spent and buy the most orders?\n",
        "- What is the average value per order of each country?\n",
        "- Country Cohort Analysis?"
      ]
    },
    {
      "cell_type": "code",
      "execution_count": 31,
      "metadata": {},
      "outputs": [],
      "source": [
        "InvoiceCount = df.groupby(['Country2','YearMonth'])['InvoiceNo'].nunique().reset_index()"
      ]
    },
    {
      "cell_type": "code",
      "execution_count": 32,
      "metadata": {},
      "outputs": [],
      "source": [
        "CustomerCount = df.groupby(['Country2','YearMonth'])['CustomerID'].nunique().reset_index()"
      ]
    },
    {
      "cell_type": "code",
      "execution_count": 33,
      "metadata": {},
      "outputs": [],
      "source": [
        "RevQuanbyCountry = df.groupby(['Country2','YearMonth']).agg({'Revenue': 'sum',\n",
        "\t\t\t\t\t\t\t\t\t\t\t\t\t\t\t'Quantity': 'sum',\n",
        "\t\t\t\t\t\t\t\t\t\t\t\t\t\t\t})"
      ]
    },
    {
      "cell_type": "code",
      "execution_count": 34,
      "metadata": {},
      "outputs": [
        {
          "data": {
            "text/html": [
              "<div>\n",
              "<style scoped>\n",
              "    .dataframe tbody tr th:only-of-type {\n",
              "        vertical-align: middle;\n",
              "    }\n",
              "\n",
              "    .dataframe tbody tr th {\n",
              "        vertical-align: top;\n",
              "    }\n",
              "\n",
              "    .dataframe thead th {\n",
              "        text-align: right;\n",
              "    }\n",
              "</style>\n",
              "<table border=\"1\" class=\"dataframe\">\n",
              "  <thead>\n",
              "    <tr style=\"text-align: right;\">\n",
              "      <th></th>\n",
              "      <th>Country2</th>\n",
              "      <th>YearMonth</th>\n",
              "      <th>InvoiceCount</th>\n",
              "      <th>CustomerCount</th>\n",
              "      <th>Revenue</th>\n",
              "      <th>Quantity</th>\n",
              "    </tr>\n",
              "  </thead>\n",
              "  <tbody>\n",
              "    <tr>\n",
              "      <th>0</th>\n",
              "      <td>EIRE</td>\n",
              "      <td>2010-12</td>\n",
              "      <td>17</td>\n",
              "      <td>3</td>\n",
              "      <td>9683.26</td>\n",
              "      <td>5773</td>\n",
              "    </tr>\n",
              "    <tr>\n",
              "      <th>1</th>\n",
              "      <td>EIRE</td>\n",
              "      <td>2011-01</td>\n",
              "      <td>7</td>\n",
              "      <td>2</td>\n",
              "      <td>21704.19</td>\n",
              "      <td>8790</td>\n",
              "    </tr>\n",
              "    <tr>\n",
              "      <th>2</th>\n",
              "      <td>EIRE</td>\n",
              "      <td>2011-02</td>\n",
              "      <td>13</td>\n",
              "      <td>2</td>\n",
              "      <td>12038.74</td>\n",
              "      <td>5964</td>\n",
              "    </tr>\n",
              "    <tr>\n",
              "      <th>3</th>\n",
              "      <td>EIRE</td>\n",
              "      <td>2011-03</td>\n",
              "      <td>21</td>\n",
              "      <td>3</td>\n",
              "      <td>18323.17</td>\n",
              "      <td>9568</td>\n",
              "    </tr>\n",
              "    <tr>\n",
              "      <th>4</th>\n",
              "      <td>EIRE</td>\n",
              "      <td>2011-04</td>\n",
              "      <td>11</td>\n",
              "      <td>2</td>\n",
              "      <td>7270.50</td>\n",
              "      <td>4129</td>\n",
              "    </tr>\n",
              "  </tbody>\n",
              "</table>\n",
              "</div>"
            ],
            "text/plain": [
              "  Country2 YearMonth  InvoiceCount  CustomerCount   Revenue  Quantity\n",
              "0     EIRE   2010-12            17              3   9683.26      5773\n",
              "1     EIRE   2011-01             7              2  21704.19      8790\n",
              "2     EIRE   2011-02            13              2  12038.74      5964\n",
              "3     EIRE   2011-03            21              3  18323.17      9568\n",
              "4     EIRE   2011-04            11              2   7270.50      4129"
            ]
          },
          "execution_count": 34,
          "metadata": {},
          "output_type": "execute_result"
        }
      ],
      "source": [
        "Country = pd.merge(InvoiceCount,CustomerCount, how = 'inner', on = ['Country2', 'YearMonth'] )\n",
        "Country = pd.merge(Country,RevQuanbyCountry, how = 'inner', on = ['Country2', 'YearMonth'] )\n",
        "Country.rename(columns={'InvoiceNo': 'InvoiceCount', 'CustomerID': 'CustomerCount'}, inplace = True)\n",
        "Country.head()"
      ]
    },
    {
      "cell_type": "code",
      "execution_count": 35,
      "metadata": {},
      "outputs": [
        {
          "data": {
            "image/png": "[encoded data removed]",
            "text/plain": [
              "<Figure size 432x288 with 1 Axes>"
            ]
          },
          "metadata": {},
          "output_type": "display_data"
        }
      ],
      "source": [
        "plt.pie(Country.groupby(\"Country2\")['Revenue'].sum().values, \n",
        "        labels=Country.groupby(\"Country2\")['Revenue'].sum().index,\n",
        "        autopct='%1.1f%%',\n",
        "        colors = sns.color_palette('pastel')[0:5],\n",
        "        startangle=90)\n",
        "plt.show()"
      ]
    },
    {
      "cell_type": "code",
      "execution_count": 36,
      "metadata": {},
      "outputs": [],
      "source": [
        "def get_cohort_matrix(data = df, var='CustomerID', fun=pd.Series.nunique, idx = 'MinYearMonth', col =  'CohortIndex'):\n",
        "\n",
        "    cd = data.groupby([idx, col])[var].apply(fun).reset_index()\n",
        "\n",
        "    cc = cd.pivot_table(index = idx,\n",
        "\n",
        "                        columns = col,\n",
        "\n",
        "                        values = var)\n",
        "\n",
        "    cs = cc.iloc[:,0]\n",
        "\n",
        "    retention = cc.divide(cs, axis = 0)\n",
        "\n",
        "    retention = retention.round(2)\n",
        "    return cc, cs, retention"
      ]
    },
    {
      "cell_type": "code",
      "execution_count": 37,
      "metadata": {},
      "outputs": [
        {
          "data": {
            "text/html": [
              "<div>\n",
              "<style scoped>\n",
              "    .dataframe tbody tr th:only-of-type {\n",
              "        vertical-align: middle;\n",
              "    }\n",
              "\n",
              "    .dataframe tbody tr th {\n",
              "        vertical-align: top;\n",
              "    }\n",
              "\n",
              "    .dataframe thead th {\n",
              "        text-align: right;\n",
              "    }\n",
              "</style>\n",
              "<table border=\"1\" class=\"dataframe\">\n",
              "  <thead>\n",
              "    <tr style=\"text-align: right;\">\n",
              "      <th>YearMonth</th>\n",
              "      <th>2010-12</th>\n",
              "      <th>2011-01</th>\n",
              "      <th>2011-02</th>\n",
              "      <th>2011-03</th>\n",
              "      <th>2011-04</th>\n",
              "      <th>2011-05</th>\n",
              "      <th>2011-06</th>\n",
              "      <th>2011-07</th>\n",
              "      <th>2011-08</th>\n",
              "      <th>2011-09</th>\n",
              "      <th>2011-10</th>\n",
              "      <th>2011-11</th>\n",
              "    </tr>\n",
              "    <tr>\n",
              "      <th>Country2</th>\n",
              "      <th></th>\n",
              "      <th></th>\n",
              "      <th></th>\n",
              "      <th></th>\n",
              "      <th></th>\n",
              "      <th></th>\n",
              "      <th></th>\n",
              "      <th></th>\n",
              "      <th></th>\n",
              "      <th></th>\n",
              "      <th></th>\n",
              "      <th></th>\n",
              "    </tr>\n",
              "  </thead>\n",
              "  <tbody>\n",
              "    <tr>\n",
              "      <th>EIRE</th>\n",
              "      <td>1.0</td>\n",
              "      <td>2.24</td>\n",
              "      <td>1.24</td>\n",
              "      <td>1.89</td>\n",
              "      <td>0.75</td>\n",
              "      <td>1.83</td>\n",
              "      <td>2.14</td>\n",
              "      <td>4.36</td>\n",
              "      <td>1.86</td>\n",
              "      <td>4.37</td>\n",
              "      <td>2.46</td>\n",
              "      <td>3.08</td>\n",
              "    </tr>\n",
              "    <tr>\n",
              "      <th>France</th>\n",
              "      <td>1.0</td>\n",
              "      <td>1.90</td>\n",
              "      <td>0.90</td>\n",
              "      <td>1.60</td>\n",
              "      <td>0.46</td>\n",
              "      <td>1.90</td>\n",
              "      <td>1.75</td>\n",
              "      <td>1.08</td>\n",
              "      <td>1.48</td>\n",
              "      <td>2.57</td>\n",
              "      <td>2.81</td>\n",
              "      <td>3.42</td>\n",
              "    </tr>\n",
              "    <tr>\n",
              "      <th>Germany</th>\n",
              "      <td>1.0</td>\n",
              "      <td>1.16</td>\n",
              "      <td>0.67</td>\n",
              "      <td>0.97</td>\n",
              "      <td>0.83</td>\n",
              "      <td>1.77</td>\n",
              "      <td>0.91</td>\n",
              "      <td>1.11</td>\n",
              "      <td>1.33</td>\n",
              "      <td>1.25</td>\n",
              "      <td>2.15</td>\n",
              "      <td>1.83</td>\n",
              "    </tr>\n",
              "    <tr>\n",
              "      <th>Netherlands</th>\n",
              "      <td>1.0</td>\n",
              "      <td>3.04</td>\n",
              "      <td>2.61</td>\n",
              "      <td>2.54</td>\n",
              "      <td>0.33</td>\n",
              "      <td>3.31</td>\n",
              "      <td>3.06</td>\n",
              "      <td>0.00</td>\n",
              "      <td>4.61</td>\n",
              "      <td>3.06</td>\n",
              "      <td>4.61</td>\n",
              "      <td>2.93</td>\n",
              "    </tr>\n",
              "    <tr>\n",
              "      <th>Other Country</th>\n",
              "      <td>1.0</td>\n",
              "      <td>1.48</td>\n",
              "      <td>1.28</td>\n",
              "      <td>1.70</td>\n",
              "      <td>0.83</td>\n",
              "      <td>1.17</td>\n",
              "      <td>1.92</td>\n",
              "      <td>1.49</td>\n",
              "      <td>1.88</td>\n",
              "      <td>1.48</td>\n",
              "      <td>2.49</td>\n",
              "      <td>2.07</td>\n",
              "    </tr>\n",
              "    <tr>\n",
              "      <th>United Kingdom</th>\n",
              "      <td>1.0</td>\n",
              "      <td>0.77</td>\n",
              "      <td>0.59</td>\n",
              "      <td>0.81</td>\n",
              "      <td>0.66</td>\n",
              "      <td>0.88</td>\n",
              "      <td>0.86</td>\n",
              "      <td>0.82</td>\n",
              "      <td>0.82</td>\n",
              "      <td>1.24</td>\n",
              "      <td>1.29</td>\n",
              "      <td>1.82</td>\n",
              "    </tr>\n",
              "  </tbody>\n",
              "</table>\n",
              "</div>"
            ],
            "text/plain": [
              "YearMonth       2010-12  2011-01  2011-02  2011-03  2011-04  2011-05  2011-06  \\\n",
              "Country2                                                                        \n",
              "EIRE                1.0     2.24     1.24     1.89     0.75     1.83     2.14   \n",
              "France              1.0     1.90     0.90     1.60     0.46     1.90     1.75   \n",
              "Germany             1.0     1.16     0.67     0.97     0.83     1.77     0.91   \n",
              "Netherlands         1.0     3.04     2.61     2.54     0.33     3.31     3.06   \n",
              "Other Country       1.0     1.48     1.28     1.70     0.83     1.17     1.92   \n",
              "United Kingdom      1.0     0.77     0.59     0.81     0.66     0.88     0.86   \n",
              "\n",
              "YearMonth       2011-07  2011-08  2011-09  2011-10  2011-11  \n",
              "Country2                                                     \n",
              "EIRE               4.36     1.86     4.37     2.46     3.08  \n",
              "France             1.08     1.48     2.57     2.81     3.42  \n",
              "Germany            1.11     1.33     1.25     2.15     1.83  \n",
              "Netherlands        0.00     4.61     3.06     4.61     2.93  \n",
              "Other Country      1.49     1.88     1.48     2.49     2.07  \n",
              "United Kingdom     0.82     0.82     1.24     1.29     1.82  "
            ]
          },
          "execution_count": 37,
          "metadata": {},
          "output_type": "execute_result"
        }
      ],
      "source": [
        "cc_rev, cs_rev, ret_rev = get_cohort_matrix( df, var='Revenue', fun=pd.Series.sum, idx = 'Country2', col = 'YearMonth')\n",
        "ret_rev"
      ]
    },
    {
      "cell_type": "code",
      "execution_count": 87,
      "metadata": {},
      "outputs": [],
      "source": [
        "ret_rev.to_csv('ret_rev.csv')"
      ]
    },
    {
      "cell_type": "code",
      "execution_count": 38,
      "metadata": {},
      "outputs": [
        {
          "data": {
            "image/png": "[encoded data removed]",
            "text/plain": [
              "<Figure size 864x432 with 3 Axes>"
            ]
          },
          "metadata": {},
          "output_type": "display_data"
        }
      ],
      "source": [
        "with sns.axes_style(\"white\"):\n",
        "    fig, ax = plt.subplots(1, 2, figsize=(12, 6), sharey=True, gridspec_kw={'width_ratios': [1, 11]})\n",
        "    \n",
        "    # retention matrix\n",
        "    sns.heatmap(ret_rev, \n",
        "                mask=ret_rev.isnull(), \n",
        "                annot=True, \n",
        "                fmt='.0%', \n",
        "                cmap='YlGnBu', \n",
        "                ax=ax[1])\n",
        "    ax[1].set_title('Revenue Monthly compare to Revenue of First Month', fontsize=16)\n",
        "    ax[1].set(xlabel='Order Date',\n",
        "              ylabel='')\n",
        "\n",
        "    # cohort size\n",
        "    cohort_size_df = pd.DataFrame(cs_rev).rename(columns={1: 'cohort_size'})\n",
        "    white_cmap = mcolors.ListedColormap(['white'])\n",
        "    sns.heatmap(cohort_size_df, \n",
        "                annot=True, \n",
        "                cbar=False, \n",
        "                fmt='g', \n",
        "                cmap=white_cmap, \n",
        "                ax=ax[0])\n",
        "\n",
        "    fig.tight_layout()"
      ]
    },
    {
      "cell_type": "markdown",
      "metadata": {
        "id": "IHnhctq6Eeys"
      },
      "source": [
        "# What are some important trends visible in the sales data and insights ? \n",
        "\n",
        "*   Do customers tend to buy more on certain weekday?\n",
        "*   Do customers buy more at the start of the month?\n",
        "* Do customers tend to buy more at a specific hour of the day?"
      ]
    },
    {
      "cell_type": "markdown",
      "metadata": {
        "id": "MPV3iZuJbk0B"
      },
      "source": [
        "## WEEK"
      ]
    },
    {
      "cell_type": "code",
      "execution_count": 208,
      "metadata": {
        "id": "tXb26OZKFmIM"
      },
      "outputs": [],
      "source": [
        "week = df.groupby(df['InvoiceDate'].dt.weekday)[['Revenue','Quantity']].sum().reset_index()"
      ]
    },
    {
      "cell_type": "code",
      "execution_count": 209,
      "metadata": {
        "id": "BQwWh6CFHmvM"
      },
      "outputs": [
        {
          "data": {
            "text/html": [
              "<div>\n",
              "<style scoped>\n",
              "    .dataframe tbody tr th:only-of-type {\n",
              "        vertical-align: middle;\n",
              "    }\n",
              "\n",
              "    .dataframe tbody tr th {\n",
              "        vertical-align: top;\n",
              "    }\n",
              "\n",
              "    .dataframe thead th {\n",
              "        text-align: right;\n",
              "    }\n",
              "</style>\n",
              "<table border=\"1\" class=\"dataframe\">\n",
              "  <thead>\n",
              "    <tr style=\"text-align: right;\">\n",
              "      <th></th>\n",
              "      <th>InvoiceDate</th>\n",
              "      <th>Revenue</th>\n",
              "      <th>Quantity</th>\n",
              "    </tr>\n",
              "  </thead>\n",
              "  <tbody>\n",
              "    <tr>\n",
              "      <th>0</th>\n",
              "      <td>0</td>\n",
              "      <td>1602946.94</td>\n",
              "      <td>825467</td>\n",
              "    </tr>\n",
              "    <tr>\n",
              "      <th>1</th>\n",
              "      <td>1</td>\n",
              "      <td>2029689.14</td>\n",
              "      <td>1080427</td>\n",
              "    </tr>\n",
              "    <tr>\n",
              "      <th>2</th>\n",
              "      <td>2</td>\n",
              "      <td>1709571.38</td>\n",
              "      <td>981329</td>\n",
              "    </tr>\n",
              "    <tr>\n",
              "      <th>3</th>\n",
              "      <td>3</td>\n",
              "      <td>2003562.81</td>\n",
              "      <td>1145023</td>\n",
              "    </tr>\n",
              "    <tr>\n",
              "      <th>4</th>\n",
              "      <td>4</td>\n",
              "      <td>1513192.56</td>\n",
              "      <td>780157</td>\n",
              "    </tr>\n",
              "    <tr>\n",
              "      <th>5</th>\n",
              "      <td>6</td>\n",
              "      <td>774068.03</td>\n",
              "      <td>452760</td>\n",
              "    </tr>\n",
              "  </tbody>\n",
              "</table>\n",
              "</div>"
            ],
            "text/plain": [
              "   InvoiceDate     Revenue  Quantity\n",
              "0            0  1602946.94    825467\n",
              "1            1  2029689.14   1080427\n",
              "2            2  1709571.38    981329\n",
              "3            3  2003562.81   1145023\n",
              "4            4  1513192.56    780157\n",
              "5            6   774068.03    452760"
            ]
          },
          "execution_count": 209,
          "metadata": {},
          "output_type": "execute_result"
        }
      ],
      "source": [
        "week"
      ]
    },
    {
      "cell_type": "code",
      "execution_count": 210,
      "metadata": {
        "id": "ctUu7hJ8HxT0"
      },
      "outputs": [
        {
          "data": {
            "image/png": "[encoded data removed]",
            "text/plain": [
              "<Figure size 1080x360 with 2 Axes>"
            ]
          },
          "metadata": {
            "needs_background": "light"
          },
          "output_type": "display_data"
        }
      ],
      "source": [
        "fig, ax = plt.subplots(nrows=1, ncols=1, figsize=(15,5))\n",
        "sns.lineplot(data = week, x = week.InvoiceDate, y = 'Quantity', marker = 'o', sort =  False, ax = ax)\n",
        "ax2 = ax.twinx()\n",
        "sns.barplot(data = week, x = week.InvoiceDate, y='Revenue', alpha=0.5, ax=ax2)\n",
        "fig.suptitle('Revenue and Quantity by Sale Week Day Wise', fontsize=16)\n",
        "plt.show()"
      ]
    },
    {
      "cell_type": "markdown",
      "metadata": {
        "id": "9sdVUUozQSpT"
      },
      "source": [
        "It is interesting to note that Thursdays have the maximum sale by volume and as well as revenue.\n",
        "Also, there are no transactions done on Saturdays. It is safe to assume that the store is closed on Saturdays.\n",
        "Nearly, 42% of total sale is done on Thursdays and Tuesdays"
      ]
    },
    {
      "cell_type": "markdown",
      "metadata": {
        "id": "Nk_Mi1SwbqBJ"
      },
      "source": [
        "## HOUR"
      ]
    },
    {
      "cell_type": "code",
      "execution_count": 211,
      "metadata": {
        "id": "1Q2pn2QqShmt"
      },
      "outputs": [],
      "source": [
        "hour = df.groupby(df['InvoiceDate'].dt.hour)[['Revenue','Quantity']].sum().reset_index()"
      ]
    },
    {
      "cell_type": "markdown",
      "metadata": {
        "id": "YigEkCNhbpk5"
      },
      "source": []
    },
    {
      "cell_type": "code",
      "execution_count": 212,
      "metadata": {
        "id": "GEtvGHi_SjfR"
      },
      "outputs": [
        {
          "data": {
            "text/html": [
              "<div>\n",
              "<style scoped>\n",
              "    .dataframe tbody tr th:only-of-type {\n",
              "        vertical-align: middle;\n",
              "    }\n",
              "\n",
              "    .dataframe tbody tr th {\n",
              "        vertical-align: top;\n",
              "    }\n",
              "\n",
              "    .dataframe thead th {\n",
              "        text-align: right;\n",
              "    }\n",
              "</style>\n",
              "<table border=\"1\" class=\"dataframe\">\n",
              "  <thead>\n",
              "    <tr style=\"text-align: right;\">\n",
              "      <th></th>\n",
              "      <th>InvoiceDate</th>\n",
              "      <th>Revenue</th>\n",
              "      <th>Quantity</th>\n",
              "    </tr>\n",
              "  </thead>\n",
              "  <tbody>\n",
              "    <tr>\n",
              "      <th>0</th>\n",
              "      <td>6</td>\n",
              "      <td>4.25</td>\n",
              "      <td>1</td>\n",
              "    </tr>\n",
              "    <tr>\n",
              "      <th>1</th>\n",
              "      <td>7</td>\n",
              "      <td>30469.21</td>\n",
              "      <td>15360</td>\n",
              "    </tr>\n",
              "    <tr>\n",
              "      <th>2</th>\n",
              "      <td>8</td>\n",
              "      <td>266212.81</td>\n",
              "      <td>150790</td>\n",
              "    </tr>\n",
              "    <tr>\n",
              "      <th>3</th>\n",
              "      <td>9</td>\n",
              "      <td>754540.59</td>\n",
              "      <td>420129</td>\n",
              "    </tr>\n",
              "    <tr>\n",
              "      <th>4</th>\n",
              "      <td>10</td>\n",
              "      <td>1340259.82</td>\n",
              "      <td>785151</td>\n",
              "    </tr>\n",
              "    <tr>\n",
              "      <th>5</th>\n",
              "      <td>11</td>\n",
              "      <td>1150932.76</td>\n",
              "      <td>647743</td>\n",
              "    </tr>\n",
              "    <tr>\n",
              "      <th>6</th>\n",
              "      <td>12</td>\n",
              "      <td>1344393.30</td>\n",
              "      <td>799006</td>\n",
              "    </tr>\n",
              "    <tr>\n",
              "      <th>7</th>\n",
              "      <td>13</td>\n",
              "      <td>1176240.06</td>\n",
              "      <td>672394</td>\n",
              "    </tr>\n",
              "    <tr>\n",
              "      <th>8</th>\n",
              "      <td>14</td>\n",
              "      <td>1078126.08</td>\n",
              "      <td>573450</td>\n",
              "    </tr>\n",
              "    <tr>\n",
              "      <th>9</th>\n",
              "      <td>15</td>\n",
              "      <td>1233870.60</td>\n",
              "      <td>611518</td>\n",
              "    </tr>\n",
              "    <tr>\n",
              "      <th>10</th>\n",
              "      <td>16</td>\n",
              "      <td>659293.96</td>\n",
              "      <td>308756</td>\n",
              "    </tr>\n",
              "    <tr>\n",
              "      <th>11</th>\n",
              "      <td>17</td>\n",
              "      <td>410611.41</td>\n",
              "      <td>180307</td>\n",
              "    </tr>\n",
              "    <tr>\n",
              "      <th>12</th>\n",
              "      <td>18</td>\n",
              "      <td>122757.09</td>\n",
              "      <td>59564</td>\n",
              "    </tr>\n",
              "    <tr>\n",
              "      <th>13</th>\n",
              "      <td>19</td>\n",
              "      <td>46549.44</td>\n",
              "      <td>31511</td>\n",
              "    </tr>\n",
              "    <tr>\n",
              "      <th>14</th>\n",
              "      <td>20</td>\n",
              "      <td>18769.48</td>\n",
              "      <td>9483</td>\n",
              "    </tr>\n",
              "  </tbody>\n",
              "</table>\n",
              "</div>"
            ],
            "text/plain": [
              "    InvoiceDate     Revenue  Quantity\n",
              "0             6        4.25         1\n",
              "1             7    30469.21     15360\n",
              "2             8   266212.81    150790\n",
              "3             9   754540.59    420129\n",
              "4            10  1340259.82    785151\n",
              "5            11  1150932.76    647743\n",
              "6            12  1344393.30    799006\n",
              "7            13  1176240.06    672394\n",
              "8            14  1078126.08    573450\n",
              "9            15  1233870.60    611518\n",
              "10           16   659293.96    308756\n",
              "11           17   410611.41    180307\n",
              "12           18   122757.09     59564\n",
              "13           19    46549.44     31511\n",
              "14           20    18769.48      9483"
            ]
          },
          "execution_count": 212,
          "metadata": {},
          "output_type": "execute_result"
        }
      ],
      "source": [
        "hour"
      ]
    },
    {
      "cell_type": "code",
      "execution_count": 213,
      "metadata": {
        "id": "mwCLQG0eNmgi"
      },
      "outputs": [
        {
          "data": {
            "text/plain": [
              "Text(0.5, 1.0, 'Revenue and No. of Item Sold each hour')"
            ]
          },
          "execution_count": 213,
          "metadata": {},
          "output_type": "execute_result"
        },
        {
          "data": {
            "image/png": "[encoded data removed]",
            "text/plain": [
              "<Figure size 1440x432 with 2 Axes>"
            ]
          },
          "metadata": {
            "needs_background": "light"
          },
          "output_type": "display_data"
        }
      ],
      "source": [
        "plt.figure(figsize = (20,6))\n",
        "sns.barplot(data = hour, x= 'InvoiceDate', y='Revenue', color = 'salmon')\n",
        "plt.twinx()\n",
        "sns.lineplot(data = hour, x= hour['InvoiceDate'].astype(str), y='Quantity')\n",
        "plt.title('Revenue and No. of Item Sold each hour')"
      ]
    },
    {
      "cell_type": "markdown",
      "metadata": {
        "id": "fqZ1QsMoRY-7"
      },
      "source": [
        "We can see that the customers do tend to buy between 9:00 hrs - 13:00 hrs. Infact, ~51 % of the sales by revenue is done in these hours\n",
        "\n",
        "Also, there are no transactions are done before 6:00 hrs and after 20:00 hrs. It can be assumed that the store usually opens for 14 hours between 6:00 hrs and 20:00 hrs."
      ]
    },
    {
      "cell_type": "markdown",
      "metadata": {
        "id": "LtcT-_63bu16"
      },
      "source": [
        "## DATE"
      ]
    },
    {
      "cell_type": "code",
      "execution_count": 214,
      "metadata": {
        "id": "YXXvcFuEQw8F"
      },
      "outputs": [],
      "source": [
        "date = df.groupby(df['InvoiceDate'].dt.day)[['Revenue','Quantity']].sum().reset_index()"
      ]
    },
    {
      "cell_type": "code",
      "execution_count": 215,
      "metadata": {
        "id": "WGR39tnnZmdP"
      },
      "outputs": [
        {
          "data": {
            "text/html": [
              "<div>\n",
              "<style scoped>\n",
              "    .dataframe tbody tr th:only-of-type {\n",
              "        vertical-align: middle;\n",
              "    }\n",
              "\n",
              "    .dataframe tbody tr th {\n",
              "        vertical-align: top;\n",
              "    }\n",
              "\n",
              "    .dataframe thead th {\n",
              "        text-align: right;\n",
              "    }\n",
              "</style>\n",
              "<table border=\"1\" class=\"dataframe\">\n",
              "  <thead>\n",
              "    <tr style=\"text-align: right;\">\n",
              "      <th></th>\n",
              "      <th>InvoiceDate</th>\n",
              "      <th>Revenue</th>\n",
              "      <th>Quantity</th>\n",
              "    </tr>\n",
              "  </thead>\n",
              "  <tbody>\n",
              "    <tr>\n",
              "      <th>0</th>\n",
              "      <td>1</td>\n",
              "      <td>261182.09</td>\n",
              "      <td>151466</td>\n",
              "    </tr>\n",
              "    <tr>\n",
              "      <th>1</th>\n",
              "      <td>2</td>\n",
              "      <td>240700.97</td>\n",
              "      <td>135073</td>\n",
              "    </tr>\n",
              "    <tr>\n",
              "      <th>2</th>\n",
              "      <td>3</td>\n",
              "      <td>311685.37</td>\n",
              "      <td>156850</td>\n",
              "    </tr>\n",
              "    <tr>\n",
              "      <th>3</th>\n",
              "      <td>4</td>\n",
              "      <td>345271.39</td>\n",
              "      <td>194291</td>\n",
              "    </tr>\n",
              "    <tr>\n",
              "      <th>4</th>\n",
              "      <td>5</td>\n",
              "      <td>315804.31</td>\n",
              "      <td>185987</td>\n",
              "    </tr>\n",
              "  </tbody>\n",
              "</table>\n",
              "</div>"
            ],
            "text/plain": [
              "   InvoiceDate    Revenue  Quantity\n",
              "0            1  261182.09    151466\n",
              "1            2  240700.97    135073\n",
              "2            3  311685.37    156850\n",
              "3            4  345271.39    194291\n",
              "4            5  315804.31    185987"
            ]
          },
          "execution_count": 215,
          "metadata": {},
          "output_type": "execute_result"
        }
      ],
      "source": [
        "date.head()"
      ]
    },
    {
      "cell_type": "code",
      "execution_count": 216,
      "metadata": {
        "id": "K-XcW4Y-Vp3x"
      },
      "outputs": [
        {
          "data": {
            "text/plain": [
              "Text(0.5, 1.0, 'Revenue and No. of Item Sold each day of month')"
            ]
          },
          "execution_count": 216,
          "metadata": {},
          "output_type": "execute_result"
        },
        {
          "data": {
            "image/png": "[encoded data removed]",
            "text/plain": [
              "<Figure size 1080x216 with 2 Axes>"
            ]
          },
          "metadata": {
            "needs_background": "light"
          },
          "output_type": "display_data"
        }
      ],
      "source": [
        "fig, ax = plt.subplots(nrows=1, ncols=1,figsize=(15,3))\n",
        "sns.lineplot(data = date, x='InvoiceDate', y='Revenue', marker='o', sort = False, ax=ax, color = 'salmon')\n",
        "plt.xlim(0,32)\n",
        "ax2 = ax.twinx()\n",
        "sns.lineplot(data = date, x='InvoiceDate', y='Quantity', marker='o', sort = False, ax=ax2, color = 'blue')\n",
        "plt.xlim(0,32)\n",
        "plt.title('Revenue and No. of Item Sold each day of month')"
      ]
    },
    {
      "cell_type": "markdown",
      "metadata": {
        "id": "fw5JHZKFbzGJ"
      },
      "source": [
        "## MONTH_YEAR"
      ]
    },
    {
      "cell_type": "code",
      "execution_count": 26,
      "metadata": {
        "id": "YbOx5rN8ZkcO"
      },
      "outputs": [
        {
          "name": "stderr",
          "output_type": "stream",
          "text": [
            "C:\\Users\\ZBook\\miniconda3\\envs\\giang_xinh_dep\\lib\\site-packages\\pandas\\core\\groupby\\groupby.py:4656: FutureWarning: using a dict with renaming is deprecated and will be removed in a future version\n",
            "  return super(DataFrameGroupBy, self).aggregate(arg, *args, **kwargs)\n"
          ]
        }
      ],
      "source": [
        "month = df.groupby('YearMonth')[['Revenue','Quantity']].agg({'Revenue': 'sum',\n",
        "\t\t\t\t\t\t\t\t\t\t\t\t\t\t\t'Quantity': 'sum',\n",
        "\t\t\t\t\t\t\t\t\t\t\t\t\t\t\t'InvoiceNo': 'count'}).reset_index()"
      ]
    },
    {
      "cell_type": "code",
      "execution_count": 27,
      "metadata": {},
      "outputs": [
        {
          "data": {
            "text/plain": [
              "9633030.859999843"
            ]
          },
          "execution_count": 27,
          "metadata": {},
          "output_type": "execute_result"
        }
      ],
      "source": [
        "month['Revenue'].sum()"
      ]
    },
    {
      "cell_type": "code",
      "execution_count": 30,
      "metadata": {
        "id": "_nd9BwmTaX-i"
      },
      "outputs": [],
      "source": [
        "month.rename(columns = {'InvoiceNo': 'TransactionCount'}, inplace = True)"
      ]
    },
    {
      "cell_type": "code",
      "execution_count": 31,
      "metadata": {
        "id": "3dtDxZCoaYaE"
      },
      "outputs": [
        {
          "data": {
            "text/plain": [
              "Text(0.5, 1.0, 'Revenue and No. of Item Sold by Months')"
            ]
          },
          "execution_count": 31,
          "metadata": {},
          "output_type": "execute_result"
        },
        {
          "data": {
            "image/png": "[encoded data removed]",
            "text/plain": [
              "<Figure size 1080x216 with 2 Axes>"
            ]
          },
          "metadata": {
            "needs_background": "light"
          },
          "output_type": "display_data"
        }
      ],
      "source": [
        "fig, ax = plt.subplots(nrows=1, ncols=1,figsize=(15,3))\n",
        "sns.barplot(data = month, x=month['YearMonth'].astype(str), y='Revenue', color = 'salmon')\n",
        "ax2 = ax.twinx()\n",
        "sns.lineplot(data = month, x=month['YearMonth'].astype(str), y='Quantity', marker='o', sort = False, ax=ax2, color = 'green')\n",
        "plt.title(\"Revenue and No. of Item Sold by Months\")"
      ]
    },
    {
      "cell_type": "code",
      "execution_count": 33,
      "metadata": {},
      "outputs": [],
      "source": [
        "invoice = df.groupby(['YearMonth','InvoiceNo'])['Country'].count().reset_index().groupby('YearMonth')['InvoiceNo'].count().reset_index()"
      ]
    },
    {
      "cell_type": "code",
      "execution_count": 34,
      "metadata": {},
      "outputs": [],
      "source": [
        "invoice.rename(columns = {'InvoiceNo': 'InvoiceCount'}, inplace = True)"
      ]
    },
    {
      "cell_type": "code",
      "execution_count": 35,
      "metadata": {},
      "outputs": [],
      "source": [
        "month = pd.merge(month, invoice, how = 'inner', on = 'YearMonth')"
      ]
    },
    {
      "cell_type": "code",
      "execution_count": 36,
      "metadata": {},
      "outputs": [
        {
          "data": {
            "text/html": [
              "<div>\n",
              "<style scoped>\n",
              "    .dataframe tbody tr th:only-of-type {\n",
              "        vertical-align: middle;\n",
              "    }\n",
              "\n",
              "    .dataframe tbody tr th {\n",
              "        vertical-align: top;\n",
              "    }\n",
              "\n",
              "    .dataframe thead th {\n",
              "        text-align: right;\n",
              "    }\n",
              "</style>\n",
              "<table border=\"1\" class=\"dataframe\">\n",
              "  <thead>\n",
              "    <tr style=\"text-align: right;\">\n",
              "      <th></th>\n",
              "      <th>YearMonth</th>\n",
              "      <th>Revenue</th>\n",
              "      <th>Quantity</th>\n",
              "      <th>TransactionCount</th>\n",
              "      <th>InvoiceCount</th>\n",
              "    </tr>\n",
              "  </thead>\n",
              "  <tbody>\n",
              "    <tr>\n",
              "      <th>0</th>\n",
              "      <td>2010-12</td>\n",
              "      <td>775714.95</td>\n",
              "      <td>357801</td>\n",
              "      <td>40959</td>\n",
              "      <td>1552</td>\n",
              "    </tr>\n",
              "    <tr>\n",
              "      <th>1</th>\n",
              "      <td>2011-01</td>\n",
              "      <td>670439.46</td>\n",
              "      <td>386798</td>\n",
              "      <td>33915</td>\n",
              "      <td>1081</td>\n",
              "    </tr>\n",
              "    <tr>\n",
              "      <th>2</th>\n",
              "      <td>2011-02</td>\n",
              "      <td>507850.09</td>\n",
              "      <td>282732</td>\n",
              "      <td>26795</td>\n",
              "      <td>1096</td>\n",
              "    </tr>\n",
              "    <tr>\n",
              "      <th>3</th>\n",
              "      <td>2011-03</td>\n",
              "      <td>689716.82</td>\n",
              "      <td>376387</td>\n",
              "      <td>35330</td>\n",
              "      <td>1441</td>\n",
              "    </tr>\n",
              "    <tr>\n",
              "      <th>4</th>\n",
              "      <td>2011-04</td>\n",
              "      <td>515463.08</td>\n",
              "      <td>307657</td>\n",
              "      <td>28747</td>\n",
              "      <td>1235</td>\n",
              "    </tr>\n",
              "    <tr>\n",
              "      <th>5</th>\n",
              "      <td>2011-05</td>\n",
              "      <td>740000.14</td>\n",
              "      <td>394950</td>\n",
              "      <td>35811</td>\n",
              "      <td>1672</td>\n",
              "    </tr>\n",
              "    <tr>\n",
              "      <th>6</th>\n",
              "      <td>2011-06</td>\n",
              "      <td>737683.99</td>\n",
              "      <td>388429</td>\n",
              "      <td>35553</td>\n",
              "      <td>1528</td>\n",
              "    </tr>\n",
              "    <tr>\n",
              "      <th>7</th>\n",
              "      <td>2011-07</td>\n",
              "      <td>688178.12</td>\n",
              "      <td>399874</td>\n",
              "      <td>38198</td>\n",
              "      <td>1453</td>\n",
              "    </tr>\n",
              "    <tr>\n",
              "      <th>8</th>\n",
              "      <td>2011-08</td>\n",
              "      <td>724205.09</td>\n",
              "      <td>421937</td>\n",
              "      <td>34145</td>\n",
              "      <td>1342</td>\n",
              "    </tr>\n",
              "    <tr>\n",
              "      <th>9</th>\n",
              "      <td>2011-09</td>\n",
              "      <td>1028338.80</td>\n",
              "      <td>569159</td>\n",
              "      <td>48697</td>\n",
              "      <td>1818</td>\n",
              "    </tr>\n",
              "    <tr>\n",
              "      <th>10</th>\n",
              "      <td>2011-10</td>\n",
              "      <td>1103327.63</td>\n",
              "      <td>619653</td>\n",
              "      <td>58310</td>\n",
              "      <td>2007</td>\n",
              "    </tr>\n",
              "    <tr>\n",
              "      <th>11</th>\n",
              "      <td>2011-11</td>\n",
              "      <td>1452112.69</td>\n",
              "      <td>759786</td>\n",
              "      <td>81738</td>\n",
              "      <td>2752</td>\n",
              "    </tr>\n",
              "  </tbody>\n",
              "</table>\n",
              "</div>"
            ],
            "text/plain": [
              "   YearMonth     Revenue  Quantity  TransactionCount  InvoiceCount\n",
              "0    2010-12   775714.95    357801             40959          1552\n",
              "1    2011-01   670439.46    386798             33915          1081\n",
              "2    2011-02   507850.09    282732             26795          1096\n",
              "3    2011-03   689716.82    376387             35330          1441\n",
              "4    2011-04   515463.08    307657             28747          1235\n",
              "5    2011-05   740000.14    394950             35811          1672\n",
              "6    2011-06   737683.99    388429             35553          1528\n",
              "7    2011-07   688178.12    399874             38198          1453\n",
              "8    2011-08   724205.09    421937             34145          1342\n",
              "9    2011-09  1028338.80    569159             48697          1818\n",
              "10   2011-10  1103327.63    619653             58310          2007\n",
              "11   2011-11  1452112.69    759786             81738          2752"
            ]
          },
          "execution_count": 36,
          "metadata": {},
          "output_type": "execute_result"
        }
      ],
      "source": [
        "month "
      ]
    },
    {
      "cell_type": "code",
      "execution_count": 37,
      "metadata": {},
      "outputs": [],
      "source": [
        "month['AverageValueOfInvoice'] = month['Revenue']/month['InvoiceCount']"
      ]
    },
    {
      "cell_type": "code",
      "execution_count": 217,
      "metadata": {},
      "outputs": [
        {
          "data": {
            "text/plain": [
              "Text(0.5, 1.0, 'Invoice Count & AverageValueOfInvoice by Months')"
            ]
          },
          "execution_count": 217,
          "metadata": {},
          "output_type": "execute_result"
        },
        {
          "data": {
            "image/png": "[encoded data removed]",
            "text/plain": [
              "<Figure size 1080x432 with 2 Axes>"
            ]
          },
          "metadata": {
            "needs_background": "light"
          },
          "output_type": "display_data"
        }
      ],
      "source": [
        "plt.figure(figsize = (15,6))\n",
        "sns.barplot(data = month, x = 'InvoiceYearMonth', y = 'InvoiceCount', color = 'salmon')\n",
        "\n",
        "plt.twinx()\n",
        "sns.lineplot(data = month, x = month['InvoiceYearMonth'].astype(str), y = 'AverageValueOfInvoice', marker = 'o', color = 'green')\n",
        "plt.title('Invoice Count & AverageValueOfInvoice by Months')"
      ]
    },
    {
      "cell_type": "code",
      "execution_count": 137,
      "metadata": {},
      "outputs": [],
      "source": [
        "month.to_csv('month.csv', index = False)"
      ]
    },
    {
      "cell_type": "markdown",
      "metadata": {
        "id": "vW860SBXb8Vp"
      },
      "source": [
        "# Question about customers?\n",
        "*   Total Customer each month?\n",
        "*   New Customer by time?\n",
        "* Revenue Made By New vs Existing Users\n",
        "* Monthly Retention Rate\n",
        "\n"
      ]
    },
    {
      "cell_type": "markdown",
      "metadata": {
        "id": "vW6mhXxdfjMZ"
      },
      "source": [
        "## Customer by Time & New Customer by time"
      ]
    },
    {
      "cell_type": "code",
      "execution_count": 39,
      "metadata": {
        "id": "p77L23_Mg_Bq"
      },
      "outputs": [],
      "source": [
        "# Create a new column called 'UserType'. \n",
        "# If InvoiceYearMonth > MinPurchaseYearMonth then UserType is 'Existing' (because they already made purchase before)\n",
        "# Otherwise, it is 'New'.\n",
        "def check_already_purchase(row):\n",
        "  if row['YearMonth'] > row['MinYearMonth']: \n",
        "    return 'Existing'\n",
        "  else:\n",
        "    return 'New'"
      ]
    },
    {
      "cell_type": "code",
      "execution_count": 86,
      "metadata": {},
      "outputs": [
        {
          "data": {
            "text/plain": [
              "YearMonth\n",
              "2010-12     884\n",
              "2011-01     739\n",
              "2011-02     757\n",
              "2011-03     973\n",
              "2011-04     853\n",
              "2011-05    1054\n",
              "2011-06     990\n",
              "2011-07     946\n",
              "2011-08     933\n",
              "2011-09    1259\n",
              "2011-10    1361\n",
              "2011-11    1661\n",
              "Freq: M, Name: CustomerID, dtype: int64"
            ]
          },
          "execution_count": 86,
          "metadata": {},
          "output_type": "execute_result"
        }
      ],
      "source": [
        "df.groupby('YearMonth')['CustomerID'].nunique()"
      ]
    },
    {
      "cell_type": "code",
      "execution_count": 40,
      "metadata": {},
      "outputs": [],
      "source": [
        "df_new = df[df['MinYearMonth'].notna()]"
      ]
    },
    {
      "cell_type": "code",
      "execution_count": 41,
      "metadata": {
        "id": "EjHTgYEVhHzw"
      },
      "outputs": [
        {
          "name": "stderr",
          "output_type": "stream",
          "text": [
            "C:\\Users\\ZBook\\miniconda3\\envs\\giang_xinh_dep\\lib\\site-packages\\ipykernel_launcher.py:1: SettingWithCopyWarning: \n",
            "A value is trying to be set on a copy of a slice from a DataFrame.\n",
            "Try using .loc[row_indexer,col_indexer] = value instead\n",
            "\n",
            "See the caveats in the documentation: http://pandas.pydata.org/pandas-docs/stable/indexing.html#indexing-view-versus-copy\n",
            "  \"\"\"Entry point for launching an IPython kernel.\n"
          ]
        }
      ],
      "source": [
        "df_new['UserType'] = df_new.apply(check_already_purchase, axis = 1)"
      ]
    },
    {
      "cell_type": "code",
      "execution_count": 42,
      "metadata": {},
      "outputs": [
        {
          "data": {
            "text/html": [
              "<div>\n",
              "<style scoped>\n",
              "    .dataframe tbody tr th:only-of-type {\n",
              "        vertical-align: middle;\n",
              "    }\n",
              "\n",
              "    .dataframe tbody tr th {\n",
              "        vertical-align: top;\n",
              "    }\n",
              "\n",
              "    .dataframe thead th {\n",
              "        text-align: right;\n",
              "    }\n",
              "</style>\n",
              "<table border=\"1\" class=\"dataframe\">\n",
              "  <thead>\n",
              "    <tr style=\"text-align: right;\">\n",
              "      <th></th>\n",
              "      <th>InvoiceNo</th>\n",
              "      <th>StockCode</th>\n",
              "      <th>Description</th>\n",
              "      <th>Quantity</th>\n",
              "      <th>InvoiceDate</th>\n",
              "      <th>UnitPrice</th>\n",
              "      <th>CustomerID</th>\n",
              "      <th>Country</th>\n",
              "      <th>Revenue</th>\n",
              "      <th>Country2</th>\n",
              "      <th>YearMonth</th>\n",
              "      <th>MinYearMonth</th>\n",
              "      <th>CohortIndex</th>\n",
              "      <th>UserType</th>\n",
              "    </tr>\n",
              "  </thead>\n",
              "  <tbody>\n",
              "    <tr>\n",
              "      <th>0</th>\n",
              "      <td>536365</td>\n",
              "      <td>85123A</td>\n",
              "      <td>WHITE HANGING HEART T-LIGHT HOLDER</td>\n",
              "      <td>6</td>\n",
              "      <td>2010-12-01 08:26:00</td>\n",
              "      <td>2.55</td>\n",
              "      <td>17850.0</td>\n",
              "      <td>United Kingdom</td>\n",
              "      <td>15.30</td>\n",
              "      <td>United Kingdom</td>\n",
              "      <td>2010-12</td>\n",
              "      <td>2010-12</td>\n",
              "      <td>0.0</td>\n",
              "      <td>New</td>\n",
              "    </tr>\n",
              "    <tr>\n",
              "      <th>1</th>\n",
              "      <td>536365</td>\n",
              "      <td>71053</td>\n",
              "      <td>WHITE METAL LANTERN</td>\n",
              "      <td>6</td>\n",
              "      <td>2010-12-01 08:26:00</td>\n",
              "      <td>3.39</td>\n",
              "      <td>17850.0</td>\n",
              "      <td>United Kingdom</td>\n",
              "      <td>20.34</td>\n",
              "      <td>United Kingdom</td>\n",
              "      <td>2010-12</td>\n",
              "      <td>2010-12</td>\n",
              "      <td>0.0</td>\n",
              "      <td>New</td>\n",
              "    </tr>\n",
              "    <tr>\n",
              "      <th>2</th>\n",
              "      <td>536365</td>\n",
              "      <td>84406B</td>\n",
              "      <td>CREAM CUPID HEARTS COAT HANGER</td>\n",
              "      <td>8</td>\n",
              "      <td>2010-12-01 08:26:00</td>\n",
              "      <td>2.75</td>\n",
              "      <td>17850.0</td>\n",
              "      <td>United Kingdom</td>\n",
              "      <td>22.00</td>\n",
              "      <td>United Kingdom</td>\n",
              "      <td>2010-12</td>\n",
              "      <td>2010-12</td>\n",
              "      <td>0.0</td>\n",
              "      <td>New</td>\n",
              "    </tr>\n",
              "    <tr>\n",
              "      <th>3</th>\n",
              "      <td>536365</td>\n",
              "      <td>84029G</td>\n",
              "      <td>KNITTED UNION FLAG HOT WATER BOTTLE</td>\n",
              "      <td>6</td>\n",
              "      <td>2010-12-01 08:26:00</td>\n",
              "      <td>3.39</td>\n",
              "      <td>17850.0</td>\n",
              "      <td>United Kingdom</td>\n",
              "      <td>20.34</td>\n",
              "      <td>United Kingdom</td>\n",
              "      <td>2010-12</td>\n",
              "      <td>2010-12</td>\n",
              "      <td>0.0</td>\n",
              "      <td>New</td>\n",
              "    </tr>\n",
              "    <tr>\n",
              "      <th>4</th>\n",
              "      <td>536365</td>\n",
              "      <td>84029E</td>\n",
              "      <td>RED WOOLLY HOTTIE WHITE HEART.</td>\n",
              "      <td>6</td>\n",
              "      <td>2010-12-01 08:26:00</td>\n",
              "      <td>3.39</td>\n",
              "      <td>17850.0</td>\n",
              "      <td>United Kingdom</td>\n",
              "      <td>20.34</td>\n",
              "      <td>United Kingdom</td>\n",
              "      <td>2010-12</td>\n",
              "      <td>2010-12</td>\n",
              "      <td>0.0</td>\n",
              "      <td>New</td>\n",
              "    </tr>\n",
              "  </tbody>\n",
              "</table>\n",
              "</div>"
            ],
            "text/plain": [
              "  InvoiceNo StockCode                          Description  Quantity  \\\n",
              "0    536365    85123A   WHITE HANGING HEART T-LIGHT HOLDER         6   \n",
              "1    536365     71053                  WHITE METAL LANTERN         6   \n",
              "2    536365    84406B       CREAM CUPID HEARTS COAT HANGER         8   \n",
              "3    536365    84029G  KNITTED UNION FLAG HOT WATER BOTTLE         6   \n",
              "4    536365    84029E       RED WOOLLY HOTTIE WHITE HEART.         6   \n",
              "\n",
              "          InvoiceDate  UnitPrice  CustomerID         Country  Revenue  \\\n",
              "0 2010-12-01 08:26:00       2.55     17850.0  United Kingdom    15.30   \n",
              "1 2010-12-01 08:26:00       3.39     17850.0  United Kingdom    20.34   \n",
              "2 2010-12-01 08:26:00       2.75     17850.0  United Kingdom    22.00   \n",
              "3 2010-12-01 08:26:00       3.39     17850.0  United Kingdom    20.34   \n",
              "4 2010-12-01 08:26:00       3.39     17850.0  United Kingdom    20.34   \n",
              "\n",
              "         Country2 YearMonth MinYearMonth  CohortIndex UserType  \n",
              "0  United Kingdom   2010-12      2010-12          0.0      New  \n",
              "1  United Kingdom   2010-12      2010-12          0.0      New  \n",
              "2  United Kingdom   2010-12      2010-12          0.0      New  \n",
              "3  United Kingdom   2010-12      2010-12          0.0      New  \n",
              "4  United Kingdom   2010-12      2010-12          0.0      New  "
            ]
          },
          "execution_count": 42,
          "metadata": {},
          "output_type": "execute_result"
        }
      ],
      "source": [
        "df_new.head()"
      ]
    },
    {
      "cell_type": "code",
      "execution_count": 43,
      "metadata": {},
      "outputs": [],
      "source": [
        "new_customer_by_time = df_new[df_new['UserType'] == 'New'].groupby(['YearMonth'])['CustomerID'].nunique().reset_index()\n",
        "existing_customer_by_time = df_new[df_new['UserType'] == 'Existing'].groupby(['YearMonth'])['CustomerID'].nunique().reset_index()"
      ]
    },
    {
      "cell_type": "code",
      "execution_count": 44,
      "metadata": {},
      "outputs": [
        {
          "data": {
            "text/html": [
              "<div>\n",
              "<style scoped>\n",
              "    .dataframe tbody tr th:only-of-type {\n",
              "        vertical-align: middle;\n",
              "    }\n",
              "\n",
              "    .dataframe tbody tr th {\n",
              "        vertical-align: top;\n",
              "    }\n",
              "\n",
              "    .dataframe thead th {\n",
              "        text-align: right;\n",
              "    }\n",
              "</style>\n",
              "<table border=\"1\" class=\"dataframe\">\n",
              "  <thead>\n",
              "    <tr style=\"text-align: right;\">\n",
              "      <th></th>\n",
              "      <th>YearMonth</th>\n",
              "      <th>NewCustomer</th>\n",
              "    </tr>\n",
              "  </thead>\n",
              "  <tbody>\n",
              "    <tr>\n",
              "      <th>0</th>\n",
              "      <td>2010-12</td>\n",
              "      <td>884</td>\n",
              "    </tr>\n",
              "    <tr>\n",
              "      <th>1</th>\n",
              "      <td>2011-01</td>\n",
              "      <td>416</td>\n",
              "    </tr>\n",
              "    <tr>\n",
              "      <th>2</th>\n",
              "      <td>2011-02</td>\n",
              "      <td>380</td>\n",
              "    </tr>\n",
              "    <tr>\n",
              "      <th>3</th>\n",
              "      <td>2011-03</td>\n",
              "      <td>452</td>\n",
              "    </tr>\n",
              "    <tr>\n",
              "      <th>4</th>\n",
              "      <td>2011-04</td>\n",
              "      <td>300</td>\n",
              "    </tr>\n",
              "  </tbody>\n",
              "</table>\n",
              "</div>"
            ],
            "text/plain": [
              "  YearMonth  NewCustomer\n",
              "0   2010-12          884\n",
              "1   2011-01          416\n",
              "2   2011-02          380\n",
              "3   2011-03          452\n",
              "4   2011-04          300"
            ]
          },
          "execution_count": 44,
          "metadata": {},
          "output_type": "execute_result"
        }
      ],
      "source": [
        "new_customer_by_time.rename(columns = {'CustomerID': 'NewCustomer'}, inplace = True)\n",
        "existing_customer_by_time.rename(columns = {'CustomerID': 'ExistingCustomer'}, inplace = True)\n",
        "new_customer_by_time.head()"
      ]
    },
    {
      "cell_type": "code",
      "execution_count": 45,
      "metadata": {},
      "outputs": [],
      "source": [
        "customer_by_time = pd.merge(new_customer_by_time, existing_customer_by_time, how = 'left', on = 'YearMonth' )"
      ]
    },
    {
      "cell_type": "code",
      "execution_count": 46,
      "metadata": {},
      "outputs": [],
      "source": [
        "customer_by_time = customer_by_time.fillna(0)"
      ]
    },
    {
      "cell_type": "code",
      "execution_count": 47,
      "metadata": {},
      "outputs": [],
      "source": [
        "customer_by_time['Ratio'] = customer_by_time['NewCustomer'] / (customer_by_time['NewCustomer'] + customer_by_time['ExistingCustomer'] )"
      ]
    },
    {
      "cell_type": "code",
      "execution_count": 48,
      "metadata": {},
      "outputs": [],
      "source": [
        "customer_by_time['TotalCustomer'] = customer_by_time['NewCustomer'] + customer_by_time['ExistingCustomer']"
      ]
    },
    {
      "cell_type": "code",
      "execution_count": 49,
      "metadata": {},
      "outputs": [
        {
          "data": {
            "text/html": [
              "<div>\n",
              "<style scoped>\n",
              "    .dataframe tbody tr th:only-of-type {\n",
              "        vertical-align: middle;\n",
              "    }\n",
              "\n",
              "    .dataframe tbody tr th {\n",
              "        vertical-align: top;\n",
              "    }\n",
              "\n",
              "    .dataframe thead th {\n",
              "        text-align: right;\n",
              "    }\n",
              "</style>\n",
              "<table border=\"1\" class=\"dataframe\">\n",
              "  <thead>\n",
              "    <tr style=\"text-align: right;\">\n",
              "      <th></th>\n",
              "      <th>YearMonth</th>\n",
              "      <th>NewCustomer</th>\n",
              "      <th>ExistingCustomer</th>\n",
              "      <th>Ratio</th>\n",
              "      <th>TotalCustomer</th>\n",
              "    </tr>\n",
              "  </thead>\n",
              "  <tbody>\n",
              "    <tr>\n",
              "      <th>0</th>\n",
              "      <td>2010-12</td>\n",
              "      <td>884</td>\n",
              "      <td>0.0</td>\n",
              "      <td>1.000000</td>\n",
              "      <td>884.0</td>\n",
              "    </tr>\n",
              "    <tr>\n",
              "      <th>1</th>\n",
              "      <td>2011-01</td>\n",
              "      <td>416</td>\n",
              "      <td>323.0</td>\n",
              "      <td>0.562923</td>\n",
              "      <td>739.0</td>\n",
              "    </tr>\n",
              "    <tr>\n",
              "      <th>2</th>\n",
              "      <td>2011-02</td>\n",
              "      <td>380</td>\n",
              "      <td>377.0</td>\n",
              "      <td>0.501982</td>\n",
              "      <td>757.0</td>\n",
              "    </tr>\n",
              "    <tr>\n",
              "      <th>3</th>\n",
              "      <td>2011-03</td>\n",
              "      <td>452</td>\n",
              "      <td>521.0</td>\n",
              "      <td>0.464543</td>\n",
              "      <td>973.0</td>\n",
              "    </tr>\n",
              "    <tr>\n",
              "      <th>4</th>\n",
              "      <td>2011-04</td>\n",
              "      <td>300</td>\n",
              "      <td>553.0</td>\n",
              "      <td>0.351700</td>\n",
              "      <td>853.0</td>\n",
              "    </tr>\n",
              "  </tbody>\n",
              "</table>\n",
              "</div>"
            ],
            "text/plain": [
              "  YearMonth  NewCustomer  ExistingCustomer     Ratio  TotalCustomer\n",
              "0   2010-12          884               0.0  1.000000          884.0\n",
              "1   2011-01          416             323.0  0.562923          739.0\n",
              "2   2011-02          380             377.0  0.501982          757.0\n",
              "3   2011-03          452             521.0  0.464543          973.0\n",
              "4   2011-04          300             553.0  0.351700          853.0"
            ]
          },
          "execution_count": 49,
          "metadata": {},
          "output_type": "execute_result"
        }
      ],
      "source": [
        "customer_by_time.head()"
      ]
    },
    {
      "cell_type": "code",
      "execution_count": 83,
      "metadata": {},
      "outputs": [],
      "source": [
        "customer_by_time.to_csv('customer_by_time.csv', index = False)"
      ]
    },
    {
      "cell_type": "markdown",
      "metadata": {
        "id": "VGtb0GZAkwHi"
      },
      "source": [
        "## Revenue Made By New vs Existing Users"
      ]
    },
    {
      "cell_type": "code",
      "execution_count": 51,
      "metadata": {},
      "outputs": [],
      "source": [
        "revenue_by_customer = df_new.groupby(['UserType','YearMonth']).agg({'Revenue': 'sum',\n",
        "\t\t\t\t\t\t\t\t\t\t\t\t\t\t\t\t\t'InvoiceNo': 'count'}).reset_index()"
      ]
    },
    {
      "cell_type": "code",
      "execution_count": 52,
      "metadata": {},
      "outputs": [],
      "source": [
        "new_customer = revenue_by_customer[revenue_by_customer['UserType'] == 'New']\n",
        "existing_customer = revenue_by_customer[revenue_by_customer['UserType'] == 'Existing']"
      ]
    },
    {
      "cell_type": "code",
      "execution_count": 53,
      "metadata": {},
      "outputs": [],
      "source": [
        "revenue_by_customer = pd.merge(new_customer, existing_customer, how = 'left', on = 'YearMonth')"
      ]
    },
    {
      "cell_type": "code",
      "execution_count": 54,
      "metadata": {},
      "outputs": [],
      "source": [
        "revenue_by_customer = revenue_by_customer.fillna(0)"
      ]
    },
    {
      "cell_type": "code",
      "execution_count": 55,
      "metadata": {},
      "outputs": [],
      "source": [
        "revenue_by_customer['Ratio'] = revenue_by_customer['Revenue_x']/ (revenue_by_customer['Revenue_y']+ revenue_by_customer['Revenue_x'])"
      ]
    },
    {
      "cell_type": "code",
      "execution_count": 56,
      "metadata": {},
      "outputs": [
        {
          "data": {
            "text/html": [
              "<div>\n",
              "<style scoped>\n",
              "    .dataframe tbody tr th:only-of-type {\n",
              "        vertical-align: middle;\n",
              "    }\n",
              "\n",
              "    .dataframe tbody tr th {\n",
              "        vertical-align: top;\n",
              "    }\n",
              "\n",
              "    .dataframe thead th {\n",
              "        text-align: right;\n",
              "    }\n",
              "</style>\n",
              "<table border=\"1\" class=\"dataframe\">\n",
              "  <thead>\n",
              "    <tr style=\"text-align: right;\">\n",
              "      <th></th>\n",
              "      <th>UserType_x</th>\n",
              "      <th>YearMonth</th>\n",
              "      <th>Revenue_x</th>\n",
              "      <th>InvoiceNo_x</th>\n",
              "      <th>UserType_y</th>\n",
              "      <th>Revenue_y</th>\n",
              "      <th>InvoiceNo_y</th>\n",
              "      <th>Ratio</th>\n",
              "    </tr>\n",
              "  </thead>\n",
              "  <tbody>\n",
              "    <tr>\n",
              "      <th>0</th>\n",
              "      <td>New</td>\n",
              "      <td>2010-12</td>\n",
              "      <td>565199.56</td>\n",
              "      <td>25572</td>\n",
              "      <td>0</td>\n",
              "      <td>0.00</td>\n",
              "      <td>0.0</td>\n",
              "      <td>1.000000</td>\n",
              "    </tr>\n",
              "    <tr>\n",
              "      <th>1</th>\n",
              "      <td>New</td>\n",
              "      <td>2011-01</td>\n",
              "      <td>289033.29</td>\n",
              "      <td>10823</td>\n",
              "      <td>Existing</td>\n",
              "      <td>273649.62</td>\n",
              "      <td>10076.0</td>\n",
              "      <td>0.513670</td>\n",
              "    </tr>\n",
              "    <tr>\n",
              "      <th>2</th>\n",
              "      <td>New</td>\n",
              "      <td>2011-02</td>\n",
              "      <td>157250.05</td>\n",
              "      <td>8796</td>\n",
              "      <td>Existing</td>\n",
              "      <td>285043.54</td>\n",
              "      <td>10835.0</td>\n",
              "      <td>0.355533</td>\n",
              "    </tr>\n",
              "    <tr>\n",
              "      <th>3</th>\n",
              "      <td>New</td>\n",
              "      <td>2011-03</td>\n",
              "      <td>196766.83</td>\n",
              "      <td>11314</td>\n",
              "      <td>Existing</td>\n",
              "      <td>386377.02</td>\n",
              "      <td>15438.0</td>\n",
              "      <td>0.337424</td>\n",
              "    </tr>\n",
              "    <tr>\n",
              "      <th>4</th>\n",
              "      <td>New</td>\n",
              "      <td>2011-04</td>\n",
              "      <td>119956.15</td>\n",
              "      <td>7156</td>\n",
              "      <td>Existing</td>\n",
              "      <td>334484.73</td>\n",
              "      <td>15191.0</td>\n",
              "      <td>0.263964</td>\n",
              "    </tr>\n",
              "    <tr>\n",
              "      <th>5</th>\n",
              "      <td>New</td>\n",
              "      <td>2011-05</td>\n",
              "      <td>118577.90</td>\n",
              "      <td>6017</td>\n",
              "      <td>Existing</td>\n",
              "      <td>540664.59</td>\n",
              "      <td>21945.0</td>\n",
              "      <td>0.179870</td>\n",
              "    </tr>\n",
              "    <tr>\n",
              "      <th>6</th>\n",
              "      <td>New</td>\n",
              "      <td>2011-06</td>\n",
              "      <td>133588.03</td>\n",
              "      <td>5621</td>\n",
              "      <td>Existing</td>\n",
              "      <td>519676.89</td>\n",
              "      <td>21199.0</td>\n",
              "      <td>0.204493</td>\n",
              "    </tr>\n",
              "    <tr>\n",
              "      <th>7</th>\n",
              "      <td>New</td>\n",
              "      <td>2011-07</td>\n",
              "      <td>72399.78</td>\n",
              "      <td>4918</td>\n",
              "      <td>Existing</td>\n",
              "      <td>519204.01</td>\n",
              "      <td>21558.0</td>\n",
              "      <td>0.122379</td>\n",
              "    </tr>\n",
              "    <tr>\n",
              "      <th>8</th>\n",
              "      <td>New</td>\n",
              "      <td>2011-08</td>\n",
              "      <td>78467.02</td>\n",
              "      <td>4797</td>\n",
              "      <td>Existing</td>\n",
              "      <td>557047.36</td>\n",
              "      <td>21891.0</td>\n",
              "      <td>0.123470</td>\n",
              "    </tr>\n",
              "    <tr>\n",
              "      <th>9</th>\n",
              "      <td>New</td>\n",
              "      <td>2011-09</td>\n",
              "      <td>151709.77</td>\n",
              "      <td>8212</td>\n",
              "      <td>Existing</td>\n",
              "      <td>787042.86</td>\n",
              "      <td>31298.0</td>\n",
              "      <td>0.161608</td>\n",
              "    </tr>\n",
              "    <tr>\n",
              "      <th>10</th>\n",
              "      <td>New</td>\n",
              "      <td>2011-10</td>\n",
              "      <td>162056.38</td>\n",
              "      <td>11462</td>\n",
              "      <td>Existing</td>\n",
              "      <td>840270.18</td>\n",
              "      <td>37151.0</td>\n",
              "      <td>0.161680</td>\n",
              "    </tr>\n",
              "    <tr>\n",
              "      <th>11</th>\n",
              "      <td>New</td>\n",
              "      <td>2011-11</td>\n",
              "      <td>133595.54</td>\n",
              "      <td>10793</td>\n",
              "      <td>Existing</td>\n",
              "      <td>1002938.46</td>\n",
              "      <td>52156.0</td>\n",
              "      <td>0.117546</td>\n",
              "    </tr>\n",
              "  </tbody>\n",
              "</table>\n",
              "</div>"
            ],
            "text/plain": [
              "   UserType_x YearMonth  Revenue_x  InvoiceNo_x UserType_y   Revenue_y  \\\n",
              "0         New   2010-12  565199.56        25572          0        0.00   \n",
              "1         New   2011-01  289033.29        10823   Existing   273649.62   \n",
              "2         New   2011-02  157250.05         8796   Existing   285043.54   \n",
              "3         New   2011-03  196766.83        11314   Existing   386377.02   \n",
              "4         New   2011-04  119956.15         7156   Existing   334484.73   \n",
              "5         New   2011-05  118577.90         6017   Existing   540664.59   \n",
              "6         New   2011-06  133588.03         5621   Existing   519676.89   \n",
              "7         New   2011-07   72399.78         4918   Existing   519204.01   \n",
              "8         New   2011-08   78467.02         4797   Existing   557047.36   \n",
              "9         New   2011-09  151709.77         8212   Existing   787042.86   \n",
              "10        New   2011-10  162056.38        11462   Existing   840270.18   \n",
              "11        New   2011-11  133595.54        10793   Existing  1002938.46   \n",
              "\n",
              "    InvoiceNo_y     Ratio  \n",
              "0           0.0  1.000000  \n",
              "1       10076.0  0.513670  \n",
              "2       10835.0  0.355533  \n",
              "3       15438.0  0.337424  \n",
              "4       15191.0  0.263964  \n",
              "5       21945.0  0.179870  \n",
              "6       21199.0  0.204493  \n",
              "7       21558.0  0.122379  \n",
              "8       21891.0  0.123470  \n",
              "9       31298.0  0.161608  \n",
              "10      37151.0  0.161680  \n",
              "11      52156.0  0.117546  "
            ]
          },
          "execution_count": 56,
          "metadata": {},
          "output_type": "execute_result"
        }
      ],
      "source": [
        "revenue_by_customer"
      ]
    },
    {
      "cell_type": "markdown",
      "metadata": {
        "id": "w-khcwl-nUEB"
      },
      "source": [
        "## Customer Retention & Customer Retention Rate"
      ]
    },
    {
      "cell_type": "code",
      "execution_count": 57,
      "metadata": {},
      "outputs": [],
      "source": [
        "customer_retention, cs, customer_retention_rate = get_cohort_matrix(data = df_new, var='CustomerID', fun=pd.Series.nunique, idx = 'MinYearMonth', col = 'CohortIndex')"
      ]
    },
    {
      "cell_type": "code",
      "execution_count": 58,
      "metadata": {},
      "outputs": [
        {
          "data": {
            "text/plain": [
              "[Text(141.0, 0.5, 'First Order Date'), Text(0.5, 33.0, 'Month to retention')]"
            ]
          },
          "execution_count": 58,
          "metadata": {},
          "output_type": "execute_result"
        },
        {
          "data": {
            "image/png": "[encoded data removed]",
            "text/plain": [
              "<Figure size 1296x432 with 2 Axes>"
            ]
          },
          "metadata": {
            "needs_background": "light"
          },
          "output_type": "display_data"
        }
      ],
      "source": [
        "fig, ax = plt.subplots(1,1, figsize=(18, 6))\n",
        "# retention matrix\n",
        "sns.heatmap(customer_retention, \n",
        "                mask=customer_retention.isnull(), \n",
        "                annot=True, \n",
        "                fmt= '.0f',\n",
        "                cmap='YlGnBu', \n",
        "                ax=ax)\n",
        "ax.set_title('Customer Retention (in number)', fontsize=16)\n",
        "ax.set(xlabel='Month to retention', ylabel = 'First Order Date' )"
      ]
    },
    {
      "cell_type": "code",
      "execution_count": 59,
      "metadata": {},
      "outputs": [
        {
          "data": {
            "text/plain": [
              "[Text(141.0, 0.5, 'First Order Date'), Text(0.5, 33.0, 'Month to retention')]"
            ]
          },
          "execution_count": 59,
          "metadata": {},
          "output_type": "execute_result"
        },
        {
          "data": {
            "image/png": "[encoded data removed]",
            "text/plain": [
              "<Figure size 1296x432 with 2 Axes>"
            ]
          },
          "metadata": {
            "needs_background": "light"
          },
          "output_type": "display_data"
        }
      ],
      "source": [
        "fig, ax = plt.subplots(1,1, figsize=(18, 6))\n",
        "# retention matrix\n",
        "sns.heatmap(customer_retention_rate, \n",
        "                mask=customer_retention_rate.isnull(), \n",
        "                annot=True, \n",
        "                fmt= '.0%',\n",
        "                cmap='YlGnBu', \n",
        "                ax=ax)\n",
        "ax.set_title('Customer Retention Rate', fontsize=16)\n",
        "ax.set(xlabel='Month to retention', ylabel = 'First Order Date' )"
      ]
    },
    {
      "cell_type": "markdown",
      "metadata": {},
      "source": [
        "## Revenue Contribution by First Order Date"
      ]
    },
    {
      "cell_type": "code",
      "execution_count": 60,
      "metadata": {},
      "outputs": [],
      "source": [
        "rev, rev_cs, rev_ret = get_cohort_matrix(data = df_new, var='Revenue', fun=pd.Series.sum, idx = 'MinYearMonth', col = 'CohortIndex')"
      ]
    },
    {
      "cell_type": "code",
      "execution_count": 61,
      "metadata": {},
      "outputs": [
        {
          "data": {
            "text/html": [
              "<div>\n",
              "<style scoped>\n",
              "    .dataframe tbody tr th:only-of-type {\n",
              "        vertical-align: middle;\n",
              "    }\n",
              "\n",
              "    .dataframe tbody tr th {\n",
              "        vertical-align: top;\n",
              "    }\n",
              "\n",
              "    .dataframe thead th {\n",
              "        text-align: right;\n",
              "    }\n",
              "</style>\n",
              "<table border=\"1\" class=\"dataframe\">\n",
              "  <thead>\n",
              "    <tr style=\"text-align: right;\">\n",
              "      <th>CohortIndex</th>\n",
              "      <th>0.0</th>\n",
              "      <th>1.0</th>\n",
              "      <th>2.0</th>\n",
              "      <th>3.0</th>\n",
              "      <th>4.0</th>\n",
              "      <th>5.0</th>\n",
              "      <th>6.0</th>\n",
              "      <th>7.0</th>\n",
              "      <th>8.0</th>\n",
              "      <th>9.0</th>\n",
              "      <th>10.0</th>\n",
              "      <th>11.0</th>\n",
              "    </tr>\n",
              "    <tr>\n",
              "      <th>MinYearMonth</th>\n",
              "      <th></th>\n",
              "      <th></th>\n",
              "      <th></th>\n",
              "      <th></th>\n",
              "      <th></th>\n",
              "      <th></th>\n",
              "      <th></th>\n",
              "      <th></th>\n",
              "      <th></th>\n",
              "      <th></th>\n",
              "      <th></th>\n",
              "      <th></th>\n",
              "    </tr>\n",
              "  </thead>\n",
              "  <tbody>\n",
              "    <tr>\n",
              "      <th>2010-12</th>\n",
              "      <td>565199.56</td>\n",
              "      <td>273649.62</td>\n",
              "      <td>231914.88</td>\n",
              "      <td>296401.62</td>\n",
              "      <td>201987.73</td>\n",
              "      <td>325803.34</td>\n",
              "      <td>310940.33</td>\n",
              "      <td>307416.63</td>\n",
              "      <td>326386.60</td>\n",
              "      <td>469383.10</td>\n",
              "      <td>448862.58</td>\n",
              "      <td>506896.88</td>\n",
              "    </tr>\n",
              "    <tr>\n",
              "      <th>2011-01</th>\n",
              "      <td>289033.29</td>\n",
              "      <td>53128.66</td>\n",
              "      <td>62412.06</td>\n",
              "      <td>64893.30</td>\n",
              "      <td>79925.57</td>\n",
              "      <td>83209.67</td>\n",
              "      <td>69548.35</td>\n",
              "      <td>71356.15</td>\n",
              "      <td>71387.69</td>\n",
              "      <td>104419.21</td>\n",
              "      <td>121637.82</td>\n",
              "      <td>NaN</td>\n",
              "    </tr>\n",
              "    <tr>\n",
              "      <th>2011-02</th>\n",
              "      <td>157250.05</td>\n",
              "      <td>27563.34</td>\n",
              "      <td>38885.66</td>\n",
              "      <td>48018.94</td>\n",
              "      <td>39916.17</td>\n",
              "      <td>33845.77</td>\n",
              "      <td>49570.91</td>\n",
              "      <td>60449.65</td>\n",
              "      <td>55007.61</td>\n",
              "      <td>64157.86</td>\n",
              "      <td>NaN</td>\n",
              "      <td>NaN</td>\n",
              "    </tr>\n",
              "    <tr>\n",
              "      <th>2011-03</th>\n",
              "      <td>196766.83</td>\n",
              "      <td>28718.04</td>\n",
              "      <td>58371.70</td>\n",
              "      <td>42366.69</td>\n",
              "      <td>50244.76</td>\n",
              "      <td>39776.33</td>\n",
              "      <td>64531.35</td>\n",
              "      <td>68641.55</td>\n",
              "      <td>70445.83</td>\n",
              "      <td>NaN</td>\n",
              "      <td>NaN</td>\n",
              "      <td>NaN</td>\n",
              "    </tr>\n",
              "    <tr>\n",
              "      <th>2011-04</th>\n",
              "      <td>119956.15</td>\n",
              "      <td>28545.04</td>\n",
              "      <td>24750.89</td>\n",
              "      <td>24104.79</td>\n",
              "      <td>26091.16</td>\n",
              "      <td>29370.44</td>\n",
              "      <td>28202.57</td>\n",
              "      <td>33671.61</td>\n",
              "      <td>NaN</td>\n",
              "      <td>NaN</td>\n",
              "      <td>NaN</td>\n",
              "      <td>NaN</td>\n",
              "    </tr>\n",
              "    <tr>\n",
              "      <th>2011-05</th>\n",
              "      <td>118577.90</td>\n",
              "      <td>18493.14</td>\n",
              "      <td>19965.61</td>\n",
              "      <td>19010.17</td>\n",
              "      <td>27594.54</td>\n",
              "      <td>32341.84</td>\n",
              "      <td>32813.34</td>\n",
              "      <td>NaN</td>\n",
              "      <td>NaN</td>\n",
              "      <td>NaN</td>\n",
              "      <td>NaN</td>\n",
              "      <td>NaN</td>\n",
              "    </tr>\n",
              "    <tr>\n",
              "      <th>2011-06</th>\n",
              "      <td>133588.03</td>\n",
              "      <td>14078.10</td>\n",
              "      <td>13318.37</td>\n",
              "      <td>30195.77</td>\n",
              "      <td>26152.56</td>\n",
              "      <td>40028.77</td>\n",
              "      <td>NaN</td>\n",
              "      <td>NaN</td>\n",
              "      <td>NaN</td>\n",
              "      <td>NaN</td>\n",
              "      <td>NaN</td>\n",
              "      <td>NaN</td>\n",
              "    </tr>\n",
              "    <tr>\n",
              "      <th>2011-07</th>\n",
              "      <td>72399.78</td>\n",
              "      <td>11537.67</td>\n",
              "      <td>14998.39</td>\n",
              "      <td>17214.93</td>\n",
              "      <td>18637.08</td>\n",
              "      <td>NaN</td>\n",
              "      <td>NaN</td>\n",
              "      <td>NaN</td>\n",
              "      <td>NaN</td>\n",
              "      <td>NaN</td>\n",
              "      <td>NaN</td>\n",
              "      <td>NaN</td>\n",
              "    </tr>\n",
              "    <tr>\n",
              "      <th>2011-08</th>\n",
              "      <td>78467.02</td>\n",
              "      <td>19131.93</td>\n",
              "      <td>31660.22</td>\n",
              "      <td>38919.06</td>\n",
              "      <td>NaN</td>\n",
              "      <td>NaN</td>\n",
              "      <td>NaN</td>\n",
              "      <td>NaN</td>\n",
              "      <td>NaN</td>\n",
              "      <td>NaN</td>\n",
              "      <td>NaN</td>\n",
              "      <td>NaN</td>\n",
              "    </tr>\n",
              "    <tr>\n",
              "      <th>2011-09</th>\n",
              "      <td>151709.77</td>\n",
              "      <td>27767.11</td>\n",
              "      <td>36431.00</td>\n",
              "      <td>NaN</td>\n",
              "      <td>NaN</td>\n",
              "      <td>NaN</td>\n",
              "      <td>NaN</td>\n",
              "      <td>NaN</td>\n",
              "      <td>NaN</td>\n",
              "      <td>NaN</td>\n",
              "      <td>NaN</td>\n",
              "      <td>NaN</td>\n",
              "    </tr>\n",
              "    <tr>\n",
              "      <th>2011-10</th>\n",
              "      <td>162056.38</td>\n",
              "      <td>39299.21</td>\n",
              "      <td>NaN</td>\n",
              "      <td>NaN</td>\n",
              "      <td>NaN</td>\n",
              "      <td>NaN</td>\n",
              "      <td>NaN</td>\n",
              "      <td>NaN</td>\n",
              "      <td>NaN</td>\n",
              "      <td>NaN</td>\n",
              "      <td>NaN</td>\n",
              "      <td>NaN</td>\n",
              "    </tr>\n",
              "    <tr>\n",
              "      <th>2011-11</th>\n",
              "      <td>133595.54</td>\n",
              "      <td>NaN</td>\n",
              "      <td>NaN</td>\n",
              "      <td>NaN</td>\n",
              "      <td>NaN</td>\n",
              "      <td>NaN</td>\n",
              "      <td>NaN</td>\n",
              "      <td>NaN</td>\n",
              "      <td>NaN</td>\n",
              "      <td>NaN</td>\n",
              "      <td>NaN</td>\n",
              "      <td>NaN</td>\n",
              "    </tr>\n",
              "  </tbody>\n",
              "</table>\n",
              "</div>"
            ],
            "text/plain": [
              "CohortIndex        0.0        1.0        2.0        3.0        4.0   \\\n",
              "MinYearMonth                                                          \n",
              "2010-12       565199.56  273649.62  231914.88  296401.62  201987.73   \n",
              "2011-01       289033.29   53128.66   62412.06   64893.30   79925.57   \n",
              "2011-02       157250.05   27563.34   38885.66   48018.94   39916.17   \n",
              "2011-03       196766.83   28718.04   58371.70   42366.69   50244.76   \n",
              "2011-04       119956.15   28545.04   24750.89   24104.79   26091.16   \n",
              "2011-05       118577.90   18493.14   19965.61   19010.17   27594.54   \n",
              "2011-06       133588.03   14078.10   13318.37   30195.77   26152.56   \n",
              "2011-07        72399.78   11537.67   14998.39   17214.93   18637.08   \n",
              "2011-08        78467.02   19131.93   31660.22   38919.06        NaN   \n",
              "2011-09       151709.77   27767.11   36431.00        NaN        NaN   \n",
              "2011-10       162056.38   39299.21        NaN        NaN        NaN   \n",
              "2011-11       133595.54        NaN        NaN        NaN        NaN   \n",
              "\n",
              "CohortIndex        5.0        6.0        7.0        8.0        9.0   \\\n",
              "MinYearMonth                                                          \n",
              "2010-12       325803.34  310940.33  307416.63  326386.60  469383.10   \n",
              "2011-01        83209.67   69548.35   71356.15   71387.69  104419.21   \n",
              "2011-02        33845.77   49570.91   60449.65   55007.61   64157.86   \n",
              "2011-03        39776.33   64531.35   68641.55   70445.83        NaN   \n",
              "2011-04        29370.44   28202.57   33671.61        NaN        NaN   \n",
              "2011-05        32341.84   32813.34        NaN        NaN        NaN   \n",
              "2011-06        40028.77        NaN        NaN        NaN        NaN   \n",
              "2011-07             NaN        NaN        NaN        NaN        NaN   \n",
              "2011-08             NaN        NaN        NaN        NaN        NaN   \n",
              "2011-09             NaN        NaN        NaN        NaN        NaN   \n",
              "2011-10             NaN        NaN        NaN        NaN        NaN   \n",
              "2011-11             NaN        NaN        NaN        NaN        NaN   \n",
              "\n",
              "CohortIndex        10.0       11.0  \n",
              "MinYearMonth                        \n",
              "2010-12       448862.58  506896.88  \n",
              "2011-01       121637.82        NaN  \n",
              "2011-02             NaN        NaN  \n",
              "2011-03             NaN        NaN  \n",
              "2011-04             NaN        NaN  \n",
              "2011-05             NaN        NaN  \n",
              "2011-06             NaN        NaN  \n",
              "2011-07             NaN        NaN  \n",
              "2011-08             NaN        NaN  \n",
              "2011-09             NaN        NaN  \n",
              "2011-10             NaN        NaN  \n",
              "2011-11             NaN        NaN  "
            ]
          },
          "execution_count": 61,
          "metadata": {},
          "output_type": "execute_result"
        }
      ],
      "source": [
        "rev"
      ]
    },
    {
      "cell_type": "code",
      "execution_count": 62,
      "metadata": {},
      "outputs": [
        {
          "data": {
            "image/png": "[encoded data removed]",
            "text/plain": [
              "<Figure size 864x432 with 3 Axes>"
            ]
          },
          "metadata": {},
          "output_type": "display_data"
        }
      ],
      "source": [
        "with sns.axes_style(\"white\"):\n",
        "    fig, ax = plt.subplots(1, 2, figsize=(12, 6), sharey=True, gridspec_kw={'width_ratios': [1, 11]})\n",
        "    \n",
        "    # retention matrix\n",
        "    sns.heatmap(rev_ret, \n",
        "                mask=rev_ret.isnull(), \n",
        "                annot=True, \n",
        "                fmt='.0%', \n",
        "                cmap='YlGnBu', \n",
        "                ax=ax[1])\n",
        "    ax[1].set_title('Revenue Contribution by First Order Date', fontsize=16)\n",
        "    ax[1].set(xlabel='Month to Retention',\n",
        "                ylabel = 'Revenue')\n",
        "\n",
        "    # cohort size\n",
        "    cohort_size_df = pd.DataFrame(rev_cs).rename(columns={1: 'cohort_size'})\n",
        "    white_cmap = mcolors.ListedColormap(['white'])\n",
        "    sns.heatmap(cohort_size_df, \n",
        "                annot=True, \n",
        "                cbar=False, \n",
        "                fmt='g', \n",
        "                cmap=white_cmap, \n",
        "                ax=ax[0])\n",
        "    ax[0].set(ylabel='Fisrt Order Date')\n",
        "    fig.tight_layout()"
      ]
    },
    {
      "cell_type": "markdown",
      "metadata": {
        "id": "AMxCdomMrJaZ"
      },
      "source": [
        "## Customer Segmentation "
      ]
    },
    {
      "cell_type": "code",
      "execution_count": 63,
      "metadata": {
        "id": "ZGM4OnGywulQ"
      },
      "outputs": [],
      "source": [
        "df['CurrentDate'] = max(df['InvoiceDate']) + pd.to_timedelta('1 D')"
      ]
    },
    {
      "cell_type": "code",
      "execution_count": 64,
      "metadata": {
        "id": "m2rO8K7dx9M5"
      },
      "outputs": [],
      "source": [
        "df['Recency'] = ((df['CurrentDate'] - df['InvoiceDate'])/pd.to_timedelta('1 D')).astype(int)"
      ]
    },
    {
      "cell_type": "code",
      "execution_count": 65,
      "metadata": {
        "id": "JtzU311mzUE0"
      },
      "outputs": [],
      "source": [
        "df_brandnew = df.groupby('CustomerID').agg({'Recency': lambda x: x.min(),\n",
        "                                            'InvoiceNo': lambda x: x.nunique(),\n",
        "                                            'Revenue': lambda x: x.sum()})"
      ]
    },
    {
      "cell_type": "code",
      "execution_count": 66,
      "metadata": {
        "id": "1G0A6kWhzvSv"
      },
      "outputs": [],
      "source": [
        "df_brandnew.rename(columns={'InvoiceNo':'Frequency','Revenue':'MonetaryValue'}, inplace=True)"
      ]
    },
    {
      "cell_type": "code",
      "execution_count": 67,
      "metadata": {},
      "outputs": [
        {
          "data": {
            "text/html": [
              "<div>\n",
              "<style scoped>\n",
              "    .dataframe tbody tr th:only-of-type {\n",
              "        vertical-align: middle;\n",
              "    }\n",
              "\n",
              "    .dataframe tbody tr th {\n",
              "        vertical-align: top;\n",
              "    }\n",
              "\n",
              "    .dataframe thead th {\n",
              "        text-align: right;\n",
              "    }\n",
              "</style>\n",
              "<table border=\"1\" class=\"dataframe\">\n",
              "  <thead>\n",
              "    <tr style=\"text-align: right;\">\n",
              "      <th></th>\n",
              "      <th>Recency</th>\n",
              "      <th>Frequency</th>\n",
              "      <th>MonetaryValue</th>\n",
              "    </tr>\n",
              "    <tr>\n",
              "      <th>CustomerID</th>\n",
              "      <th></th>\n",
              "      <th></th>\n",
              "      <th></th>\n",
              "    </tr>\n",
              "  </thead>\n",
              "  <tbody>\n",
              "    <tr>\n",
              "      <th>12346.0</th>\n",
              "      <td>317</td>\n",
              "      <td>1</td>\n",
              "      <td>77183.60</td>\n",
              "    </tr>\n",
              "    <tr>\n",
              "      <th>12347.0</th>\n",
              "      <td>31</td>\n",
              "      <td>6</td>\n",
              "      <td>4085.18</td>\n",
              "    </tr>\n",
              "    <tr>\n",
              "      <th>12348.0</th>\n",
              "      <td>67</td>\n",
              "      <td>4</td>\n",
              "      <td>1437.24</td>\n",
              "    </tr>\n",
              "    <tr>\n",
              "      <th>12349.0</th>\n",
              "      <td>10</td>\n",
              "      <td>1</td>\n",
              "      <td>1457.55</td>\n",
              "    </tr>\n",
              "    <tr>\n",
              "      <th>12350.0</th>\n",
              "      <td>302</td>\n",
              "      <td>1</td>\n",
              "      <td>294.40</td>\n",
              "    </tr>\n",
              "  </tbody>\n",
              "</table>\n",
              "</div>"
            ],
            "text/plain": [
              "            Recency  Frequency  MonetaryValue\n",
              "CustomerID                                   \n",
              "12346.0         317          1       77183.60\n",
              "12347.0          31          6        4085.18\n",
              "12348.0          67          4        1437.24\n",
              "12349.0          10          1        1457.55\n",
              "12350.0         302          1         294.40"
            ]
          },
          "execution_count": 67,
          "metadata": {},
          "output_type": "execute_result"
        }
      ],
      "source": [
        "df_brandnew.head()"
      ]
    },
    {
      "cell_type": "code",
      "execution_count": 68,
      "metadata": {
        "id": "Fmd4xU5Z0EQl"
      },
      "outputs": [
        {
          "name": "stderr",
          "output_type": "stream",
          "text": [
            "C:\\Users\\ZBook\\miniconda3\\envs\\giang_xinh_dep\\lib\\site-packages\\seaborn\\distributions.py:2551: FutureWarning: `distplot` is a deprecated function and will be removed in a future version. Please adapt your code to use either `displot` (a figure-level function with similar flexibility) or `histplot` (an axes-level function for histograms).\n",
            "  warnings.warn(msg, FutureWarning)\n",
            "C:\\Users\\ZBook\\miniconda3\\envs\\giang_xinh_dep\\lib\\site-packages\\seaborn\\distributions.py:2551: FutureWarning: `distplot` is a deprecated function and will be removed in a future version. Please adapt your code to use either `displot` (a figure-level function with similar flexibility) or `histplot` (an axes-level function for histograms).\n",
            "  warnings.warn(msg, FutureWarning)\n",
            "C:\\Users\\ZBook\\miniconda3\\envs\\giang_xinh_dep\\lib\\site-packages\\seaborn\\distributions.py:2551: FutureWarning: `distplot` is a deprecated function and will be removed in a future version. Please adapt your code to use either `displot` (a figure-level function with similar flexibility) or `histplot` (an axes-level function for histograms).\n",
            "  warnings.warn(msg, FutureWarning)\n"
          ]
        },
        {
          "data": {
            "image/png": "[encoded data removed]",
            "text/plain": [
              "<Figure size 864x288 with 3 Axes>"
            ]
          },
          "metadata": {
            "needs_background": "light"
          },
          "output_type": "display_data"
        }
      ],
      "source": [
        "fig, ax = plt.subplots(1, 3, figsize=(12,4))\n",
        "sns.distplot(df_brandnew['Recency'], ax = ax[0])\n",
        "sns.distplot(df_brandnew['Frequency'], ax = ax[1])\n",
        "sns.distplot(df_brandnew['MonetaryValue'], ax = ax[2])\n",
        "plt.show()"
      ]
    },
    {
      "cell_type": "code",
      "execution_count": 69,
      "metadata": {
        "id": "7qKL_w_Z0Gx-"
      },
      "outputs": [],
      "source": [
        "from scipy import stats\n",
        "def analyze_skewness(x):\n",
        "    fig, ax = plt.subplots(2, 2, figsize=(5,5))\n",
        "    sns.distplot(x, ax=ax[0,0])\n",
        "    sns.distplot(np.log(x), ax=ax[0,1])\n",
        "    sns.distplot(np.sqrt(x), ax=ax[1,0])\n",
        "    sns.distplot(stats.boxcox(x)[0], ax=ax[1,1])\n",
        "    plt.tight_layout()\n",
        "    plt.show()\n",
        "    \n",
        "    print(x.skew().round(2))\n",
        "    print(np.log(x).skew().round(2))\n",
        "    print(np.sqrt(x).skew().round(2))\n",
        "    print(pd.Series(stats.boxcox(x)[0]).skew().round(2))"
      ]
    },
    {
      "cell_type": "code",
      "execution_count": 70,
      "metadata": {
        "id": "BYvQKVhG0PNs"
      },
      "outputs": [
        {
          "name": "stderr",
          "output_type": "stream",
          "text": [
            "C:\\Users\\ZBook\\miniconda3\\envs\\giang_xinh_dep\\lib\\site-packages\\seaborn\\distributions.py:2551: FutureWarning: `distplot` is a deprecated function and will be removed in a future version. Please adapt your code to use either `displot` (a figure-level function with similar flexibility) or `histplot` (an axes-level function for histograms).\n",
            "  warnings.warn(msg, FutureWarning)\n",
            "C:\\Users\\ZBook\\miniconda3\\envs\\giang_xinh_dep\\lib\\site-packages\\seaborn\\distributions.py:2551: FutureWarning: `distplot` is a deprecated function and will be removed in a future version. Please adapt your code to use either `displot` (a figure-level function with similar flexibility) or `histplot` (an axes-level function for histograms).\n",
            "  warnings.warn(msg, FutureWarning)\n",
            "C:\\Users\\ZBook\\miniconda3\\envs\\giang_xinh_dep\\lib\\site-packages\\seaborn\\distributions.py:2551: FutureWarning: `distplot` is a deprecated function and will be removed in a future version. Please adapt your code to use either `displot` (a figure-level function with similar flexibility) or `histplot` (an axes-level function for histograms).\n",
            "  warnings.warn(msg, FutureWarning)\n",
            "C:\\Users\\ZBook\\miniconda3\\envs\\giang_xinh_dep\\lib\\site-packages\\seaborn\\distributions.py:2551: FutureWarning: `distplot` is a deprecated function and will be removed in a future version. Please adapt your code to use either `displot` (a figure-level function with similar flexibility) or `histplot` (an axes-level function for histograms).\n",
            "  warnings.warn(msg, FutureWarning)\n"
          ]
        },
        {
          "data": {
            "image/png": "[encoded data removed]",
            "text/plain": [
              "<Figure size 360x360 with 4 Axes>"
            ]
          },
          "metadata": {
            "needs_background": "light"
          },
          "output_type": "display_data"
        },
        {
          "name": "stdout",
          "output_type": "stream",
          "text": [
            "1.21\n",
            "-0.54\n",
            "0.58\n",
            "-0.07\n"
          ]
        }
      ],
      "source": [
        "analyze_skewness(df_brandnew['Recency'])"
      ]
    },
    {
      "cell_type": "code",
      "execution_count": 71,
      "metadata": {
        "id": "2SsM_dmq0PTW"
      },
      "outputs": [
        {
          "name": "stderr",
          "output_type": "stream",
          "text": [
            "C:\\Users\\ZBook\\miniconda3\\envs\\giang_xinh_dep\\lib\\site-packages\\seaborn\\distributions.py:2551: FutureWarning: `distplot` is a deprecated function and will be removed in a future version. Please adapt your code to use either `displot` (a figure-level function with similar flexibility) or `histplot` (an axes-level function for histograms).\n",
            "  warnings.warn(msg, FutureWarning)\n",
            "C:\\Users\\ZBook\\miniconda3\\envs\\giang_xinh_dep\\lib\\site-packages\\seaborn\\distributions.py:2551: FutureWarning: `distplot` is a deprecated function and will be removed in a future version. Please adapt your code to use either `displot` (a figure-level function with similar flexibility) or `histplot` (an axes-level function for histograms).\n",
            "  warnings.warn(msg, FutureWarning)\n",
            "C:\\Users\\ZBook\\miniconda3\\envs\\giang_xinh_dep\\lib\\site-packages\\seaborn\\distributions.py:2551: FutureWarning: `distplot` is a deprecated function and will be removed in a future version. Please adapt your code to use either `displot` (a figure-level function with similar flexibility) or `histplot` (an axes-level function for histograms).\n",
            "  warnings.warn(msg, FutureWarning)\n",
            "C:\\Users\\ZBook\\miniconda3\\envs\\giang_xinh_dep\\lib\\site-packages\\seaborn\\distributions.py:2551: FutureWarning: `distplot` is a deprecated function and will be removed in a future version. Please adapt your code to use either `displot` (a figure-level function with similar flexibility) or `histplot` (an axes-level function for histograms).\n",
            "  warnings.warn(msg, FutureWarning)\n"
          ]
        },
        {
          "data": {
            "image/png": "[encoded data removed]",
            "text/plain": [
              "<Figure size 360x360 with 4 Axes>"
            ]
          },
          "metadata": {
            "needs_background": "light"
          },
          "output_type": "display_data"
        },
        {
          "name": "stdout",
          "output_type": "stream",
          "text": [
            "11.9\n",
            "0.81\n",
            "3.04\n",
            "0.16\n"
          ]
        }
      ],
      "source": [
        "analyze_skewness(df_brandnew['Frequency'])"
      ]
    },
    {
      "cell_type": "code",
      "execution_count": 72,
      "metadata": {
        "id": "yMlqnE852WU7"
      },
      "outputs": [
        {
          "data": {
            "text/html": [
              "<div>\n",
              "<style scoped>\n",
              "    .dataframe tbody tr th:only-of-type {\n",
              "        vertical-align: middle;\n",
              "    }\n",
              "\n",
              "    .dataframe tbody tr th {\n",
              "        vertical-align: top;\n",
              "    }\n",
              "\n",
              "    .dataframe thead th {\n",
              "        text-align: right;\n",
              "    }\n",
              "</style>\n",
              "<table border=\"1\" class=\"dataframe\">\n",
              "  <thead>\n",
              "    <tr style=\"text-align: right;\">\n",
              "      <th></th>\n",
              "      <th>Recency</th>\n",
              "      <th>Frequency</th>\n",
              "      <th>MonetaryValue</th>\n",
              "    </tr>\n",
              "  </thead>\n",
              "  <tbody>\n",
              "    <tr>\n",
              "      <th>count</th>\n",
              "      <td>4294.000000</td>\n",
              "      <td>4294.000000</td>\n",
              "      <td>4294.000000</td>\n",
              "    </tr>\n",
              "    <tr>\n",
              "      <th>mean</th>\n",
              "      <td>91.619702</td>\n",
              "      <td>4.105496</td>\n",
              "      <td>1915.463335</td>\n",
              "    </tr>\n",
              "    <tr>\n",
              "      <th>std</th>\n",
              "      <td>98.728780</td>\n",
              "      <td>7.350739</td>\n",
              "      <td>8269.449404</td>\n",
              "    </tr>\n",
              "    <tr>\n",
              "      <th>min</th>\n",
              "      <td>1.000000</td>\n",
              "      <td>1.000000</td>\n",
              "      <td>0.000000</td>\n",
              "    </tr>\n",
              "    <tr>\n",
              "      <th>25%</th>\n",
              "      <td>16.000000</td>\n",
              "      <td>1.000000</td>\n",
              "      <td>301.297500</td>\n",
              "    </tr>\n",
              "    <tr>\n",
              "      <th>50%</th>\n",
              "      <td>50.000000</td>\n",
              "      <td>2.000000</td>\n",
              "      <td>646.360000</td>\n",
              "    </tr>\n",
              "    <tr>\n",
              "      <th>75%</th>\n",
              "      <td>146.000000</td>\n",
              "      <td>4.000000</td>\n",
              "      <td>1569.047500</td>\n",
              "    </tr>\n",
              "    <tr>\n",
              "      <th>max</th>\n",
              "      <td>365.000000</td>\n",
              "      <td>197.000000</td>\n",
              "      <td>267410.000000</td>\n",
              "    </tr>\n",
              "  </tbody>\n",
              "</table>\n",
              "</div>"
            ],
            "text/plain": [
              "           Recency    Frequency  MonetaryValue\n",
              "count  4294.000000  4294.000000    4294.000000\n",
              "mean     91.619702     4.105496    1915.463335\n",
              "std      98.728780     7.350739    8269.449404\n",
              "min       1.000000     1.000000       0.000000\n",
              "25%      16.000000     1.000000     301.297500\n",
              "50%      50.000000     2.000000     646.360000\n",
              "75%     146.000000     4.000000    1569.047500\n",
              "max     365.000000   197.000000  267410.000000"
            ]
          },
          "execution_count": 72,
          "metadata": {},
          "output_type": "execute_result"
        }
      ],
      "source": [
        "df_brandnew.describe()"
      ]
    },
    {
      "cell_type": "code",
      "execution_count": 73,
      "metadata": {},
      "outputs": [
        {
          "data": {
            "text/html": [
              "<div>\n",
              "<style scoped>\n",
              "    .dataframe tbody tr th:only-of-type {\n",
              "        vertical-align: middle;\n",
              "    }\n",
              "\n",
              "    .dataframe tbody tr th {\n",
              "        vertical-align: top;\n",
              "    }\n",
              "\n",
              "    .dataframe thead th {\n",
              "        text-align: right;\n",
              "    }\n",
              "</style>\n",
              "<table border=\"1\" class=\"dataframe\">\n",
              "  <thead>\n",
              "    <tr style=\"text-align: right;\">\n",
              "      <th></th>\n",
              "      <th>Recency</th>\n",
              "      <th>Frequency</th>\n",
              "      <th>MonetaryValue</th>\n",
              "    </tr>\n",
              "  </thead>\n",
              "  <tbody>\n",
              "    <tr>\n",
              "      <th>0</th>\n",
              "      <td>9.799788</td>\n",
              "      <td>0.000000</td>\n",
              "      <td>42.576995</td>\n",
              "    </tr>\n",
              "    <tr>\n",
              "      <th>1</th>\n",
              "      <td>4.670056</td>\n",
              "      <td>1.242559</td>\n",
              "      <td>15.985899</td>\n",
              "    </tr>\n",
              "    <tr>\n",
              "      <th>2</th>\n",
              "      <td>6.150585</td>\n",
              "      <td>1.039792</td>\n",
              "      <td>11.285213</td>\n",
              "    </tr>\n",
              "    <tr>\n",
              "      <th>3</th>\n",
              "      <td>2.820855</td>\n",
              "      <td>0.000000</td>\n",
              "      <td>11.338123</td>\n",
              "    </tr>\n",
              "    <tr>\n",
              "      <th>4</th>\n",
              "      <td>9.670737</td>\n",
              "      <td>0.000000</td>\n",
              "      <td>6.652414</td>\n",
              "    </tr>\n",
              "    <tr>\n",
              "      <th>5</th>\n",
              "      <td>4.488694</td>\n",
              "      <td>1.310700</td>\n",
              "      <td>11.148778</td>\n",
              "    </tr>\n",
              "    <tr>\n",
              "      <th>6</th>\n",
              "      <td>8.553273</td>\n",
              "      <td>0.000000</td>\n",
              "      <td>4.464745</td>\n",
              "    </tr>\n",
              "    <tr>\n",
              "      <th>7</th>\n",
              "      <td>8.898471</td>\n",
              "      <td>0.000000</td>\n",
              "      <td>10.257955</td>\n",
              "    </tr>\n",
              "    <tr>\n",
              "      <th>8</th>\n",
              "      <td>8.688927</td>\n",
              "      <td>0.000000</td>\n",
              "      <td>7.716085</td>\n",
              "    </tr>\n",
              "    <tr>\n",
              "      <th>9</th>\n",
              "      <td>3.333986</td>\n",
              "      <td>0.872515</td>\n",
              "      <td>13.549303</td>\n",
              "    </tr>\n",
              "  </tbody>\n",
              "</table>\n",
              "</div>"
            ],
            "text/plain": [
              "    Recency  Frequency  MonetaryValue\n",
              "0  9.799788   0.000000      42.576995\n",
              "1  4.670056   1.242559      15.985899\n",
              "2  6.150585   1.039792      11.285213\n",
              "3  2.820855   0.000000      11.338123\n",
              "4  9.670737   0.000000       6.652414\n",
              "5  4.488694   1.310700      11.148778\n",
              "6  8.553273   0.000000       4.464745\n",
              "7  8.898471   0.000000      10.257955\n",
              "8  8.688927   0.000000       7.716085\n",
              "9  3.333986   0.872515      13.549303"
            ]
          },
          "execution_count": 73,
          "metadata": {},
          "output_type": "execute_result"
        }
      ],
      "source": [
        "df_brandnew_tf = pd.DataFrame()\n",
        "df_brandnew_tf['Recency'] = stats.boxcox(df_brandnew['Recency'])[0]\n",
        "df_brandnew_tf['Frequency'] = stats.boxcox(df_brandnew['Frequency'])[0]\n",
        "df_brandnew_tf['MonetaryValue'] = pd.Series(np.cbrt(df_brandnew['MonetaryValue'])).values\n",
        "df_brandnew_tf.head(10)"
      ]
    },
    {
      "cell_type": "code",
      "execution_count": 74,
      "metadata": {},
      "outputs": [],
      "source": [
        "# Scale data\n",
        "from sklearn.preprocessing import StandardScaler\n",
        "scaler = StandardScaler()\n",
        "df_brandnew_tf2 = scaler.fit_transform(df_brandnew_tf)"
      ]
    },
    {
      "cell_type": "code",
      "execution_count": 75,
      "metadata": {},
      "outputs": [
        {
          "data": {
            "text/plain": [
              "array([[ 1.60140317, -1.15580518,  6.84712806],\n",
              "       [-0.34857563,  1.07505039,  1.30552448],\n",
              "       [ 0.21422198,  0.71100877,  0.32589816],\n",
              "       ...,\n",
              "       [ 0.67733802, -1.15580518, -1.05796126],\n",
              "       [-2.12381646,  1.69471278,  0.52386177],\n",
              "       [-0.28496182,  0.41068323,  0.5265041 ]])"
            ]
          },
          "execution_count": 75,
          "metadata": {},
          "output_type": "execute_result"
        }
      ],
      "source": [
        "df_brandnew_tf2"
      ]
    },
    {
      "cell_type": "code",
      "execution_count": 76,
      "metadata": {},
      "outputs": [
        {
          "data": {
            "image/png": "[encoded data removed]",
            "text/plain": [
              "<Figure size 432x288 with 1 Axes>"
            ]
          },
          "metadata": {
            "needs_background": "light"
          },
          "output_type": "display_data"
        }
      ],
      "source": [
        "from sklearn.cluster import KMeans\n",
        "\n",
        "wcss = {}\n",
        "for k in range(1, 11):\n",
        "    kmeans = KMeans(n_clusters=k, random_state=42)\n",
        "    kmeans.fit(df_brandnew_tf2)\n",
        "    wcss[k] = kmeans.inertia_ \n",
        "    \n",
        "plt.title('The Elbow Method')\n",
        "plt.xlabel('k')\n",
        "plt.ylabel('WCSS')\n",
        "sns.pointplot(x=list(wcss.keys()), y=list(wcss.values()))\n",
        "plt.show()"
      ]
    },
    {
      "cell_type": "code",
      "execution_count": 77,
      "metadata": {},
      "outputs": [
        {
          "data": {
            "text/plain": [
              "KMeans(n_clusters=3, random_state=42)"
            ]
          },
          "execution_count": 77,
          "metadata": {},
          "output_type": "execute_result"
        }
      ],
      "source": [
        "model = KMeans(n_clusters=3, random_state=42)\n",
        "model.fit(df_brandnew_tf2)"
      ]
    },
    {
      "cell_type": "code",
      "execution_count": 78,
      "metadata": {},
      "outputs": [],
      "source": [
        "df_brandnew['Cluster'] = model.labels_"
      ]
    },
    {
      "cell_type": "code",
      "execution_count": 79,
      "metadata": {},
      "outputs": [
        {
          "data": {
            "text/html": [
              "<div>\n",
              "<style scoped>\n",
              "    .dataframe tbody tr th:only-of-type {\n",
              "        vertical-align: middle;\n",
              "    }\n",
              "\n",
              "    .dataframe tbody tr th {\n",
              "        vertical-align: top;\n",
              "    }\n",
              "\n",
              "    .dataframe thead th {\n",
              "        text-align: right;\n",
              "    }\n",
              "</style>\n",
              "<table border=\"1\" class=\"dataframe\">\n",
              "  <thead>\n",
              "    <tr style=\"text-align: right;\">\n",
              "      <th></th>\n",
              "      <th>Recency</th>\n",
              "      <th>Frequency</th>\n",
              "      <th>MonetaryValue</th>\n",
              "    </tr>\n",
              "    <tr>\n",
              "      <th>Cluster</th>\n",
              "      <th></th>\n",
              "      <th></th>\n",
              "      <th></th>\n",
              "    </tr>\n",
              "  </thead>\n",
              "  <tbody>\n",
              "    <tr>\n",
              "      <th>0</th>\n",
              "      <td>17.96</td>\n",
              "      <td>13.84</td>\n",
              "      <td>8632.16</td>\n",
              "    </tr>\n",
              "    <tr>\n",
              "      <th>1</th>\n",
              "      <td>160.63</td>\n",
              "      <td>1.25</td>\n",
              "      <td>403.08</td>\n",
              "    </tr>\n",
              "    <tr>\n",
              "      <th>2</th>\n",
              "      <td>43.03</td>\n",
              "      <td>3.69</td>\n",
              "      <td>1136.63</td>\n",
              "    </tr>\n",
              "  </tbody>\n",
              "</table>\n",
              "</div>"
            ],
            "text/plain": [
              "         Recency  Frequency  MonetaryValue\n",
              "Cluster                                   \n",
              "0          17.96      13.84        8632.16\n",
              "1         160.63       1.25         403.08\n",
              "2          43.03       3.69        1136.63"
            ]
          },
          "execution_count": 79,
          "metadata": {},
          "output_type": "execute_result"
        }
      ],
      "source": [
        "df_brandnew.groupby('Cluster').agg(\n",
        "    {\n",
        "        'Recency':'mean',\n",
        "        'Frequency':'mean',\n",
        "        'MonetaryValue':'mean'\n",
        "    }\n",
        ").round(2)"
      ]
    },
    {
      "cell_type": "code",
      "execution_count": 80,
      "metadata": {},
      "outputs": [
        {
          "data": {
            "text/html": [
              "<div>\n",
              "<style scoped>\n",
              "    .dataframe tbody tr th:only-of-type {\n",
              "        vertical-align: middle;\n",
              "    }\n",
              "\n",
              "    .dataframe tbody tr th {\n",
              "        vertical-align: top;\n",
              "    }\n",
              "\n",
              "    .dataframe thead th {\n",
              "        text-align: right;\n",
              "    }\n",
              "</style>\n",
              "<table border=\"1\" class=\"dataframe\">\n",
              "  <thead>\n",
              "    <tr style=\"text-align: right;\">\n",
              "      <th></th>\n",
              "      <th>Recency</th>\n",
              "      <th>Frequency</th>\n",
              "      <th>MonetaryValue</th>\n",
              "      <th>Cluster</th>\n",
              "    </tr>\n",
              "    <tr>\n",
              "      <th>CustomerID</th>\n",
              "      <th></th>\n",
              "      <th></th>\n",
              "      <th></th>\n",
              "      <th></th>\n",
              "    </tr>\n",
              "  </thead>\n",
              "  <tbody>\n",
              "    <tr>\n",
              "      <th>12346.0</th>\n",
              "      <td>317</td>\n",
              "      <td>1</td>\n",
              "      <td>77183.60</td>\n",
              "      <td>0</td>\n",
              "    </tr>\n",
              "    <tr>\n",
              "      <th>12347.0</th>\n",
              "      <td>31</td>\n",
              "      <td>6</td>\n",
              "      <td>4085.18</td>\n",
              "      <td>0</td>\n",
              "    </tr>\n",
              "    <tr>\n",
              "      <th>12348.0</th>\n",
              "      <td>67</td>\n",
              "      <td>4</td>\n",
              "      <td>1437.24</td>\n",
              "      <td>2</td>\n",
              "    </tr>\n",
              "    <tr>\n",
              "      <th>12349.0</th>\n",
              "      <td>10</td>\n",
              "      <td>1</td>\n",
              "      <td>1457.55</td>\n",
              "      <td>2</td>\n",
              "    </tr>\n",
              "    <tr>\n",
              "      <th>12350.0</th>\n",
              "      <td>302</td>\n",
              "      <td>1</td>\n",
              "      <td>294.40</td>\n",
              "      <td>1</td>\n",
              "    </tr>\n",
              "  </tbody>\n",
              "</table>\n",
              "</div>"
            ],
            "text/plain": [
              "            Recency  Frequency  MonetaryValue  Cluster\n",
              "CustomerID                                            \n",
              "12346.0         317          1       77183.60        0\n",
              "12347.0          31          6        4085.18        0\n",
              "12348.0          67          4        1437.24        2\n",
              "12349.0          10          1        1457.55        2\n",
              "12350.0         302          1         294.40        1"
            ]
          },
          "execution_count": 80,
          "metadata": {},
          "output_type": "execute_result"
        }
      ],
      "source": [
        "df_brandnew.head()"
      ]
    },
    {
      "cell_type": "markdown",
      "metadata": {},
      "source": [
        "Loyal customer: Cluster 2 - customer who buy many times with monetary value is high\n",
        "Negative customer: Cluster 1 - customer buy only once, and the value of order is small\n",
        "Potential customers : Cluster 0 - customer who did used product of e_commerce before, the moneytary value is mid"
      ]
    },
    {
      "cell_type": "code",
      "execution_count": 81,
      "metadata": {},
      "outputs": [
        {
          "data": {
            "text/html": [
              "<div>\n",
              "<style scoped>\n",
              "    .dataframe tbody tr th:only-of-type {\n",
              "        vertical-align: middle;\n",
              "    }\n",
              "\n",
              "    .dataframe tbody tr th {\n",
              "        vertical-align: top;\n",
              "    }\n",
              "\n",
              "    .dataframe thead th {\n",
              "        text-align: right;\n",
              "    }\n",
              "</style>\n",
              "<table border=\"1\" class=\"dataframe\">\n",
              "  <thead>\n",
              "    <tr style=\"text-align: right;\">\n",
              "      <th></th>\n",
              "      <th>Recency</th>\n",
              "      <th>Frequency</th>\n",
              "      <th>MonetaryValue</th>\n",
              "    </tr>\n",
              "    <tr>\n",
              "      <th>Cluster</th>\n",
              "      <th></th>\n",
              "      <th></th>\n",
              "      <th></th>\n",
              "    </tr>\n",
              "  </thead>\n",
              "  <tbody>\n",
              "    <tr>\n",
              "      <th>0</th>\n",
              "      <td>633</td>\n",
              "      <td>633</td>\n",
              "      <td>633</td>\n",
              "    </tr>\n",
              "    <tr>\n",
              "      <th>1</th>\n",
              "      <td>1909</td>\n",
              "      <td>1909</td>\n",
              "      <td>1909</td>\n",
              "    </tr>\n",
              "    <tr>\n",
              "      <th>2</th>\n",
              "      <td>1752</td>\n",
              "      <td>1752</td>\n",
              "      <td>1752</td>\n",
              "    </tr>\n",
              "  </tbody>\n",
              "</table>\n",
              "</div>"
            ],
            "text/plain": [
              "         Recency  Frequency  MonetaryValue\n",
              "Cluster                                   \n",
              "0            633        633            633\n",
              "1           1909       1909           1909\n",
              "2           1752       1752           1752"
            ]
          },
          "execution_count": 81,
          "metadata": {},
          "output_type": "execute_result"
        }
      ],
      "source": [
        "df_brandnew.groupby('Cluster').count()"
      ]
    }
  ],
  "metadata": {
    "colab": {
      "collapsed_sections": [],
      "name": "Interspace.ipynb",
      "provenance": [],
      "toc_visible": true
    },
    "interpreter": {
      "hash": "ea7267aeff028784197a4ee30e98fabe386376df7ddf90b6ab9d5e88b18e628b"
    },
    "kernelspec": {
      "display_name": "Python 3.6.13 64-bit ('giang_xinh_dep': conda)",
      "name": "python3"
    },
    "language_info": {
      "codemirror_mode": {
        "name": "ipython",
        "version": 3
      },
      "file_extension": ".py",
      "mimetype": "text/x-python",
      "name": "python",
      "nbconvert_exporter": "python",
      "pygments_lexer": "ipython3",
      "version": "3.6.13"
    }
  },
  "nbformat": 4,
  "nbformat_minor": 0
}
